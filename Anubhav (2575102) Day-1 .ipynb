{
 "cells": [
  {
   "cell_type": "markdown",
   "id": "524284a6",
   "metadata": {},
   "source": [
    "# Q1: Manipulate using a list:\n",
    "    1- To add new elements to the end of the list.\n",
    "    2- To reverse element of the list.\n",
    "    3- To display the same list of the element multiples times.\n",
    "    4- To concatenate two list.\n",
    "    5- To sort the element in the list in asecnding order."
   ]
  },
  {
   "cell_type": "code",
   "execution_count": 1,
   "id": "5b1b2f28",
   "metadata": {},
   "outputs": [
    {
     "name": "stdout",
     "output_type": "stream",
     "text": [
      "[1, 2, 3, 5, 6, 4]\n"
     ]
    }
   ],
   "source": [
    "#To add new elements to the end of the list\n",
    "\n",
    "list = [1, 2, 3,5,6]  \n",
    "element = 4\n",
    "list.append(element)\n",
    "print(list)\n",
    "\n"
   ]
  },
  {
   "cell_type": "code",
   "execution_count": 2,
   "id": "c06a8a9e",
   "metadata": {},
   "outputs": [
    {
     "name": "stdout",
     "output_type": "stream",
     "text": [
      "[4, 6, 5, 3, 2, 1]\n"
     ]
    }
   ],
   "source": [
    "#To reverse element of the list.\n",
    "list.reverse()\n",
    "print(list)"
   ]
  },
  {
   "cell_type": "code",
   "execution_count": 3,
   "id": "f035996d",
   "metadata": {},
   "outputs": [
    {
     "name": "stdout",
     "output_type": "stream",
     "text": [
      "[4, 6, 5, 3, 2, 1, 4, 6, 5, 3, 2, 1, 4, 6, 5, 3, 2, 1, 4, 6, 5, 3, 2, 1]\n"
     ]
    }
   ],
   "source": [
    "#To display the same list of the element multiples times.\n",
    "a = list*4\n",
    "print(a)"
   ]
  },
  {
   "cell_type": "code",
   "execution_count": 4,
   "id": "dbf2d58b",
   "metadata": {},
   "outputs": [
    {
     "name": "stdout",
     "output_type": "stream",
     "text": [
      "[1, 2, 10, 9, 5, 6, 5, 3, 9, 4, 80, 100]\n"
     ]
    }
   ],
   "source": [
    "#To concatenate two list.\n",
    "list1 = [1,2,10,9,5]\n",
    "list2 = [6,5,3,9,4,80,100]\n",
    "con = list1+list2\n",
    "print(con)\n"
   ]
  },
  {
   "cell_type": "code",
   "execution_count": 5,
   "id": "8244181c",
   "metadata": {},
   "outputs": [
    {
     "name": "stdout",
     "output_type": "stream",
     "text": [
      "[1, 2, 3, 4, 5, 5, 6, 9, 9, 10, 80, 100]\n"
     ]
    }
   ],
   "source": [
    "#To sort the element in the list in asecnding order.\n",
    "con.sort()\n",
    "print(con)"
   ]
  },
  {
   "cell_type": "markdown",
   "id": "d996a1ae",
   "metadata": {},
   "source": [
    "# Q2: Write a python program to do in the tuples.\n",
    "    1- Manipulate using tuples.\n",
    "    2- To add element to the end of the tuple.\n",
    "    3- To reverse elemet in the tuple\n",
    "    4- To display the elements of the same tuple multiple times.\n",
    "    5- to sort the element in the list in asc order.\n",
    "    "
   ]
  },
  {
   "cell_type": "code",
   "execution_count": 6,
   "id": "d3c41853",
   "metadata": {},
   "outputs": [
    {
     "name": "stdout",
     "output_type": "stream",
     "text": [
      "(1, 2, 3, 5)\n"
     ]
    }
   ],
   "source": [
    "#1- Manipulate using tuples.\n",
    "tuple = (1, 2, 3,5)\n",
    "print(tuple)"
   ]
  },
  {
   "cell_type": "code",
   "execution_count": 7,
   "id": "39f79f08",
   "metadata": {},
   "outputs": [
    {
     "name": "stdout",
     "output_type": "stream",
     "text": [
      "(1, 2, 3, 5, 4)\n"
     ]
    }
   ],
   "source": [
    "# 2- To add element to the end of the tuple.\n",
    "#my_tuple = (1, 2, 3)\n",
    "element = 4\n",
    "new_tuple = tuple + (element,)\n",
    "\n",
    "print(new_tuple)\n"
   ]
  },
  {
   "cell_type": "code",
   "execution_count": 8,
   "id": "bd82b48f",
   "metadata": {},
   "outputs": [
    {
     "name": "stdout",
     "output_type": "stream",
     "text": [
      "(4, 5, 3, 2, 1)\n"
     ]
    }
   ],
   "source": [
    "# To reverse elemet in the tuple\n",
    "reverse = new_tuple[::-1]\n",
    "print(reverse)"
   ]
  },
  {
   "cell_type": "code",
   "execution_count": 9,
   "id": "fa5ad93d",
   "metadata": {},
   "outputs": [
    {
     "name": "stdout",
     "output_type": "stream",
     "text": [
      "(4, 5, 3, 2, 1, 4, 5, 3, 2, 1, 4, 5, 3, 2, 1, 4, 5, 3, 2, 1)\n"
     ]
    }
   ],
   "source": [
    "#4- To display the elements of the same tuple multiple times.\n",
    "a= reverse*4\n",
    "print(a)"
   ]
  },
  {
   "cell_type": "code",
   "execution_count": 10,
   "id": "dedead0c",
   "metadata": {},
   "outputs": [
    {
     "ename": "TypeError",
     "evalue": "'tuple' object is not callable",
     "output_type": "error",
     "traceback": [
      "\u001b[1;31m---------------------------------------------------------------------------\u001b[0m",
      "\u001b[1;31mTypeError\u001b[0m                                 Traceback (most recent call last)",
      "Cell \u001b[1;32mIn[10], line 3\u001b[0m\n\u001b[0;32m      1\u001b[0m \u001b[38;5;66;03m#5- To sort the element in the list in asc order.\u001b[39;00m\n\u001b[0;32m      2\u001b[0m tuple1 \u001b[38;5;241m=\u001b[39m (\u001b[38;5;241m5\u001b[39m, \u001b[38;5;241m2\u001b[39m, \u001b[38;5;241m24\u001b[39m, \u001b[38;5;241m3\u001b[39m, \u001b[38;5;241m1\u001b[39m, \u001b[38;5;241m6\u001b[39m, \u001b[38;5;241m7\u001b[39m)  \n\u001b[1;32m----> 3\u001b[0m sorted1 \u001b[38;5;241m=\u001b[39m \u001b[38;5;28mtuple\u001b[39m(\u001b[38;5;28msorted\u001b[39m(tuple1))  \n\u001b[0;32m      4\u001b[0m \u001b[38;5;28mprint\u001b[39m(\u001b[38;5;124m'\u001b[39m\u001b[38;5;124mSorted Tuple :\u001b[39m\u001b[38;5;124m'\u001b[39m, sorted1)  \n\u001b[0;32m      5\u001b[0m \u001b[38;5;28mprint\u001b[39m(\u001b[38;5;28mtype\u001b[39m(sorted1))\n",
      "\u001b[1;31mTypeError\u001b[0m: 'tuple' object is not callable"
     ]
    }
   ],
   "source": [
    "#5- To sort the element in the list in asc order.\n",
    "tuple1 = (5, 2, 24, 3, 1, 6, 7)  \n",
    "sorted1 = tuple(sorted(tuple1))  \n",
    "print('Sorted Tuple :', sorted1)  \n",
    "print(type(sorted1))  "
   ]
  },
  {
   "cell_type": "markdown",
   "id": "e2ae5cce",
   "metadata": {},
   "source": [
    "# Q3: Write  a python program to omplementation the following using list\n",
    "    1- create a lsit with the integer(Min. 10 numbers)\n",
    "    2- How to display the last number.\n",
    "    3- Command for displaying the values from the list [0:4]\n",
    "    4- Command for display the values from the list [2:]\n",
    "    5- Command for displaying the values  from the list [:6]\n",
    "    "
   ]
  },
  {
   "cell_type": "code",
   "execution_count": 11,
   "id": "965feb23",
   "metadata": {},
   "outputs": [
    {
     "name": "stdout",
     "output_type": "stream",
     "text": [
      "[1, 2, 3, 4, 5, 6, 7, 8, 9, 10]\n"
     ]
    }
   ],
   "source": [
    "#1- create a lsit with the integer(Min. 10 numbers)\n",
    "l = [1, 2, 3, 4, 5, 6, 7, 8, 9, 10]\n",
    "print(l)"
   ]
  },
  {
   "cell_type": "code",
   "execution_count": 24,
   "id": "6f0c3442",
   "metadata": {},
   "outputs": [
    {
     "name": "stdout",
     "output_type": "stream",
     "text": [
      "10\n"
     ]
    }
   ],
   "source": [
    "# 2- How to display the last number.\n",
    "last_number = l[-1]\n",
    "print(last_number)\n"
   ]
  },
  {
   "cell_type": "code",
   "execution_count": 25,
   "id": "06cf3067",
   "metadata": {},
   "outputs": [
    {
     "name": "stdout",
     "output_type": "stream",
     "text": [
      "[1, 2, 3, 4]\n"
     ]
    }
   ],
   "source": [
    "#Command for displaying the values from the list [0:4]\n",
    "a = l[0:4]\n",
    "print(a)"
   ]
  },
  {
   "cell_type": "code",
   "execution_count": 26,
   "id": "a689185e",
   "metadata": {},
   "outputs": [
    {
     "name": "stdout",
     "output_type": "stream",
     "text": [
      "[3, 4, 5, 6, 7, 8, 9, 10]\n"
     ]
    }
   ],
   "source": [
    "#Command for display the values from the list [2:]\n",
    "a = l[2:]\n",
    "print(a)"
   ]
  },
  {
   "cell_type": "code",
   "execution_count": 27,
   "id": "1e732826",
   "metadata": {},
   "outputs": [
    {
     "name": "stdout",
     "output_type": "stream",
     "text": [
      "[1, 2, 3, 4, 5, 6]\n"
     ]
    }
   ],
   "source": [
    "# 5- Command for displaying the values  from the list [:6]\n",
    "a = l[:6]\n",
    "print(a)"
   ]
  },
  {
   "cell_type": "markdown",
   "id": "dbee297b",
   "metadata": {},
   "source": [
    "# Q4: write a python program:tuple1 = (10,50,20,40,30)\n",
    "    1- To display element 10 and 50 from tuple1.\n",
    "    2- To display length form tuple1.\n",
    "    3- To find the minimum element form tuple1\n",
    "    4- to add all the element in the tuple1.\n",
    "    5- To display the same tuple1 multiples times.\n",
    "    "
   ]
  },
  {
   "cell_type": "code",
   "execution_count": 28,
   "id": "8ae66503",
   "metadata": {},
   "outputs": [
    {
     "name": "stdout",
     "output_type": "stream",
     "text": [
      "Element 10: 10\n",
      "Element 50: 50\n"
     ]
    }
   ],
   "source": [
    "# 1- To display element 10 and 50 from tuple1\n",
    "tuple1 = (10, 50, 20, 40, 30)\n",
    "element_10 = tuple1[0]\n",
    "element_50 = tuple1[1]\n",
    "\n",
    "print(\"Element 10:\", element_10)\n",
    "print(\"Element 50:\", element_50)"
   ]
  },
  {
   "cell_type": "code",
   "execution_count": 29,
   "id": "56c28ab4",
   "metadata": {},
   "outputs": [
    {
     "data": {
      "text/plain": [
       "5"
      ]
     },
     "execution_count": 29,
     "metadata": {},
     "output_type": "execute_result"
    }
   ],
   "source": [
    "#2- To display length form tuple1.\n",
    "len(tuple1)"
   ]
  },
  {
   "cell_type": "code",
   "execution_count": 12,
   "id": "77a6fc4a",
   "metadata": {},
   "outputs": [
    {
     "ename": "TypeError",
     "evalue": "'tuple' object is not callable",
     "output_type": "error",
     "traceback": [
      "\u001b[1;31m---------------------------------------------------------------------------\u001b[0m",
      "\u001b[1;31mTypeError\u001b[0m                                 Traceback (most recent call last)",
      "Cell \u001b[1;32mIn[12], line 3\u001b[0m\n\u001b[0;32m      1\u001b[0m \u001b[38;5;66;03m#- To find the minimum element form tuple1\u001b[39;00m\n\u001b[0;32m      2\u001b[0m sorted_list \u001b[38;5;241m=\u001b[39m \u001b[38;5;28msorted\u001b[39m(tuple1)\n\u001b[1;32m----> 3\u001b[0m sorted_tuple \u001b[38;5;241m=\u001b[39m \u001b[38;5;28mtuple\u001b[39m(sorted_list)\n\u001b[0;32m      4\u001b[0m \u001b[38;5;28mprint\u001b[39m(\u001b[38;5;124m\"\u001b[39m\u001b[38;5;124mSorted Tuple:\u001b[39m\u001b[38;5;124m\"\u001b[39m, sorted_tuple)\n",
      "\u001b[1;31mTypeError\u001b[0m: 'tuple' object is not callable"
     ]
    }
   ],
   "source": [
    "#- To find the minimum element form tuple1\n",
    "sorted_list = sorted(tuple1)\n",
    "sorted_tuple = tuple(sorted_list)\n",
    "print(\"Sorted Tuple:\", sorted_tuple)\n"
   ]
  },
  {
   "cell_type": "code",
   "execution_count": 13,
   "id": "31b6f6fe",
   "metadata": {},
   "outputs": [
    {
     "name": "stdout",
     "output_type": "stream",
     "text": [
      "Total : 48\n"
     ]
    }
   ],
   "source": [
    "#4- to add all the element in the tuple1\n",
    "add = sum(tuple1)\n",
    "print(\"Total :\",add)"
   ]
  },
  {
   "cell_type": "code",
   "execution_count": 14,
   "id": "f8df6143",
   "metadata": {},
   "outputs": [
    {
     "name": "stdout",
     "output_type": "stream",
     "text": [
      "(5, 2, 24, 3, 1, 6, 7, 5, 2, 24, 3, 1, 6, 7, 5, 2, 24, 3, 1, 6, 7, 5, 2, 24, 3, 1, 6, 7)\n"
     ]
    }
   ],
   "source": [
    "#5- To display the same tuple1 multiples times.\n",
    "a = tuple1*4\n",
    "print(a)"
   ]
  },
  {
   "cell_type": "markdown",
   "id": "df51f070",
   "metadata": {},
   "source": [
    "# Q5: Write a python Program.\n",
    "    1- To calculate the length of the string.\n",
    "    2- To reverse the word in the string.\n",
    "    3- To diaplay the same string multiple times.\n",
    "    4- To concatenate two string.\n",
    "    5- str1 = \"South India\", using string slicing to display \"India\".\n",
    "    "
   ]
  },
  {
   "cell_type": "code",
   "execution_count": 15,
   "id": "72777824",
   "metadata": {},
   "outputs": [
    {
     "name": "stdout",
     "output_type": "stream",
     "text": [
      "15\n"
     ]
    }
   ],
   "source": [
    "#1- To calculate the length of the string.\n",
    "string = 'Python Training'\n",
    "length = len(string)\n",
    "print(length)\n",
    "\n"
   ]
  },
  {
   "cell_type": "code",
   "execution_count": 34,
   "id": "c49ae847",
   "metadata": {},
   "outputs": [
    {
     "name": "stdout",
     "output_type": "stream",
     "text": [
      "Original String: Python Training\n",
      "Reversed String: Training Python\n"
     ]
    }
   ],
   "source": [
    "# 2- To reverse the word in the string.\n",
    "words = string.split()            # Split the string into words\n",
    "reversed_words = words[::-1]         # Reverse the order of the words\n",
    "reversed_string = ' '.join(reversed_words) # Join the reversed words back into a string\n",
    "\n",
    "print(\"Original String:\", string)\n",
    "print(\"Reversed String:\", reversed_string)\n"
   ]
  },
  {
   "cell_type": "code",
   "execution_count": 35,
   "id": "b3fa05d5",
   "metadata": {},
   "outputs": [
    {
     "name": "stdout",
     "output_type": "stream",
     "text": [
      "Python TrainingPython TrainingPython TrainingPython Training\n"
     ]
    }
   ],
   "source": [
    "# 3- To diaplay the same string multiple times.\n",
    "reverse  = string*4\n",
    "print(reverse)"
   ]
  },
  {
   "cell_type": "code",
   "execution_count": 36,
   "id": "4420bb38",
   "metadata": {},
   "outputs": [
    {
     "name": "stdout",
     "output_type": "stream",
     "text": [
      "Day1Day2\n"
     ]
    }
   ],
   "source": [
    "# 4- To concatenate two string.\n",
    "String1 = \"Day1\"\n",
    "String2 = \"Day2\"\n",
    "con = String1+String2\n",
    "print(con)\n"
   ]
  },
  {
   "cell_type": "code",
   "execution_count": 37,
   "id": "352d193e",
   "metadata": {},
   "outputs": [
    {
     "name": "stdout",
     "output_type": "stream",
     "text": [
      "India\n"
     ]
    }
   ],
   "source": [
    "#5- str1 = \"South India\", using string slicing to display \"India\".\n",
    "str1 = \"South India\"\n",
    "india = str1[6:]\n",
    "print(india)\n"
   ]
  },
  {
   "cell_type": "markdown",
   "id": "a237408d",
   "metadata": {},
   "source": [
    "# Q6: Perform the following:\n",
    "        1- creating the dictionary.\n",
    "        2- Accessing values and keys in the Dictionary.\n",
    "        3- Updating the dictionary using a function\n",
    "        4- Clear and delete the dictionary value"
   ]
  },
  {
   "cell_type": "code",
   "execution_count": null,
   "id": "2e87d647",
   "metadata": {},
   "outputs": [],
   "source": [
    "#1- creating the dictionary.\n",
    "dict = {\n",
    "    \"name\": \"ANUBHAV\",\n",
    "    \"age\": 24,\n",
    "    \"city\": \"Pune\"\n",
    "}\n",
    "print(dict)"
   ]
  },
  {
   "cell_type": "code",
   "execution_count": null,
   "id": "49933bf5",
   "metadata": {},
   "outputs": [],
   "source": [
    "#2- Accessing values and keys in the Dictionary.\n",
    "name_value = dict[\"name\"]\n",
    "age_value = dict[\"age\"]\n",
    "city_value = dict[\"city\"]\n",
    "\n",
    "print(\"Name:\", name_value)\n",
    "print(\"Age:\", age_value)\n",
    "print(\"City:\", city_value)"
   ]
  },
  {
   "cell_type": "code",
   "execution_count": null,
   "id": "d29c99ab",
   "metadata": {},
   "outputs": [],
   "source": [
    "#3:3- Updating the dictionary using a function\n",
    "def update_dict(input_dict):\n",
    "\n",
    "    input_dict[\"name\"] = \"Mphasis\"       #Update the values of the dictionary within the function\n",
    "    input_dict[\"age\"] = 25\n",
    "    input_dict[\"city\"] = \"Noida\"\n",
    "\n",
    "update_dict(dict)\n",
    "print(dict)"
   ]
  },
  {
   "cell_type": "code",
   "execution_count": null,
   "id": "20811aee",
   "metadata": {},
   "outputs": [],
   "source": [
    "#  4- Clear and delete the dictionary value\n",
    "dict.clear()\n",
    "print(dict)"
   ]
  },
  {
   "cell_type": "markdown",
   "id": "473ce1a7",
   "metadata": {},
   "source": [
    "# Q7:Python Program to insert a number to any position in a list."
   ]
  },
  {
   "cell_type": "markdown",
   "id": "b86f0bb6",
   "metadata": {},
   "source": [
    "# list = [1, 2, 3, 4, 5]\n",
    "number_insert = 99\n",
    "position = 2\n",
    "\n",
    "list.insert(position, number_insert)\n",
    "\n",
    "print(\"Updated List:\", list)\n"
   ]
  },
  {
   "cell_type": "markdown",
   "id": "d78619e6",
   "metadata": {},
   "source": [
    "# Q8: Python program to delete the element froma list by index."
   ]
  },
  {
   "cell_type": "code",
   "execution_count": 16,
   "id": "33c65c62",
   "metadata": {},
   "outputs": [
    {
     "name": "stdout",
     "output_type": "stream",
     "text": [
      "[4, 6, 3, 2, 1]\n"
     ]
    }
   ],
   "source": [
    "del list[2]\n",
    "print(list)"
   ]
  },
  {
   "cell_type": "markdown",
   "id": "12ef218b",
   "metadata": {},
   "source": [
    "# 9.write a program to display a number from 1 to 100."
   ]
  },
  {
   "cell_type": "code",
   "execution_count": 2,
   "id": "3f076fd9",
   "metadata": {},
   "outputs": [
    {
     "name": "stdout",
     "output_type": "stream",
     "text": [
      "1 2 3 4 5 6 7 8 9 10 11 12 13 14 15 16 17 18 19 20 21 22 23 24 25 26 27 28 29 30 31 32 33 34 35 36 37 38 39 40 41 42 43 44 45 46 47 48 49 50 51 52 53 54 55 56 57 58 59 60 61 62 63 64 65 66 67 68 69 70 71 72 73 74 75 76 77 78 79 80 81 82 83 84 85 86 87 88 89 90 91 92 93 94 95 96 97 98 99 100 "
     ]
    }
   ],
   "source": [
    "#  to display numbers from 1 to 100\n",
    "for number in range(1, 101):\n",
    "    print(number,end = \" \")"
   ]
  },
  {
   "cell_type": "markdown",
   "id": "b322baac",
   "metadata": {},
   "source": [
    "# 10.write a Python program to find the sum of all items in a tuple."
   ]
  },
  {
   "cell_type": "code",
   "execution_count": 3,
   "id": "5a13f48e",
   "metadata": {},
   "outputs": [
    {
     "name": "stdout",
     "output_type": "stream",
     "text": [
      "Sum of Items: 15\n"
     ]
    }
   ],
   "source": [
    "my_tuple = (1, 2, 3, 4, 5)\n",
    "sum_of_items = 0\n",
    "for item in my_tuple:\n",
    "    sum_of_items += item\n",
    "print(\"Sum of Items:\", sum_of_items)"
   ]
  },
  {
   "cell_type": "markdown",
   "id": "36102fe1",
   "metadata": {},
   "source": [
    "# 11. Write a program in python to print out the number of seconds in 30-day month 30 days, 24 hours in a day, 60 minutes "
   ]
  },
  {
   "cell_type": "code",
   "execution_count": 1,
   "id": "c8b02424",
   "metadata": {},
   "outputs": [
    {
     "name": "stdout",
     "output_type": "stream",
     "text": [
      "Number of seconds in a 30-day month: 2592000\n"
     ]
    }
   ],
   "source": [
    "days_in_month = 30\n",
    "hours_in_day = 24\n",
    "\n",
    "minutes_in_hour = 60\n",
    "seconds_in_minute = 60\n",
    "\n",
    "seconds_in_30_days = days_in_month * hours_in_day * minutes_in_hour * seconds_in_minute\n",
    "print(\"Number of seconds in a 30-day month:\", seconds_in_30_days)"
   ]
  },
  {
   "cell_type": "markdown",
   "id": "8450dd36",
   "metadata": {},
   "source": [
    "# 12. A list of words is given. Find the words from the list that have their second character in uppercase."
   ]
  },
  {
   "cell_type": "code",
   "execution_count": 2,
   "id": "7148b902",
   "metadata": {},
   "outputs": [
    {
     "name": "stdout",
     "output_type": "stream",
     "text": [
      "Words with the second character in uppercase:\n",
      "['ARe']\n"
     ]
    }
   ],
   "source": [
    "words_list = ['hello', 'Dear', 'how', 'ARe', 'You']\n",
    "result_words = []\n",
    "for word in words_list:\n",
    "    if word[1].isupper():\n",
    "        result_words.append(word)\n",
    "print(\"Words with the second character in uppercase:\")\n",
    "print(result_words)"
   ]
  },
  {
   "cell_type": "markdown",
   "id": "47c52264",
   "metadata": {},
   "source": [
    "# 12. Write a program in python to print out the number of seconds in a year"
   ]
  },
  {
   "cell_type": "code",
   "execution_count": 6,
   "id": "a8db73ff",
   "metadata": {},
   "outputs": [
    {
     "name": "stdout",
     "output_type": "stream",
     "text": [
      "Number of seconds in a year: 31536000\n"
     ]
    }
   ],
   "source": [
    "days_in_year = 365\n",
    "seconds_in_a_year = days_in_year * hours_in_day * minutes_in_hour * seconds_in_minute\n",
    "print(\"Number of seconds in a year:\", seconds_in_a_year)"
   ]
  },
  {
   "cell_type": "markdown",
   "id": "f97522dd",
   "metadata": {},
   "source": [
    "# 13. A dictionary of names and their weights on earth is given. Find how much they will weigh on the moon. (Use map and lambda functions)Formula wMoon = (wEarth * GMoon) / GEarth Weight of people in kg Weight On Earth = ['John':45, 'Shelly':65, 'Marry':35)Gravitational force on the Moon: 1.622 m/s2GMoon = 1.622 Gravitational force on the Earth: 9.81 m/s2 GEarth = 9.81"
   ]
  },
  {
   "cell_type": "code",
   "execution_count": 3,
   "id": "3891f9a9",
   "metadata": {},
   "outputs": [
    {
     "name": "stdout",
     "output_type": "stream",
     "text": [
      "Weights on the Moon:\n",
      "John: 7.440366972477065 kg\n",
      "Shelly: 10.747196738022426 kg\n",
      "Marry: 5.786952089704383 kg\n"
     ]
    }
   ],
   "source": [
    "weight_on_earth = {'John': 45, 'Shelly': 65, 'Marry': 35}\n",
    "GMoon = 1.622  \n",
    "GEarth = 9.81  \n",
    "weights_on_moon = list(map(lambda w: (w * GMoon) / GEarth, weight_on_earth.values()))\n",
    "weight_on_moon = dict(zip(weight_on_earth.keys(), weights_on_moon))\n",
    "print(\"Weights on the Moon:\")\n",
    "for name, weight in weight_on_moon.items():\n",
    "    print(\"{}: {} kg\".format(name,weight))"
   ]
  },
  {
   "cell_type": "markdown",
   "id": "26d82355",
   "metadata": {},
   "source": [
    "# Control Structures :"
   ]
  },
  {
   "cell_type": "markdown",
   "id": "d1c6b45d",
   "metadata": {},
   "source": [
    "# 1. Write a python program to find the first N Prime numbers."
   ]
  },
  {
   "cell_type": "markdown",
   "id": "e95695d0",
   "metadata": {},
   "source": [
    "# def isPrime(n):\n",
    "    if n <= 1:\n",
    "        return False\n",
    "\n",
    "    for i in range(2, n):\n",
    "        if n % i == 0:\n",
    "            return False\n",
    "\n",
    "    return True\n",
    "N = int(input(\"Enter the value of 'N': \"))\n",
    "for i in range(2, N + 1):\n",
    "    if isPrime(i):\n",
    "        print(i, end=\" \")"
   ]
  },
  {
   "cell_type": "markdown",
   "id": "ba804c13",
   "metadata": {},
   "source": [
    "# 2. Wite the python code that calculates the salary of an employee. Prompt the user to enter the Basic Salary, HRA, TA, and DA. Add these components to calculate the Gross Salary. Also, deduct 10% of salary from the Gross Salary to be paid as tax and display gross minus tax as net salary."
   ]
  },
  {
   "cell_type": "code",
   "execution_count": 5,
   "id": "57bf5fb8",
   "metadata": {},
   "outputs": [
    {
     "name": "stdout",
     "output_type": "stream",
     "text": [
      "Enter Basic Salary: 200\n",
      "Enter HRA: 1340\n",
      "Enter TA: 359\n",
      "Enter DA: 990\n",
      "Gross Salary: 2889.0\n",
      "Tax: 288.90000000000003\n",
      "Net Salary: 2600.1\n"
     ]
    }
   ],
   "source": [
    "basic_salary = float(input(\"Enter Basic Salary: \"))\n",
    "hra = int(input(\"Enter HRA: \"))\n",
    "ta = int(input(\"Enter TA: \"))\n",
    "da = int(input(\"Enter DA: \"))\n",
    "\n",
    "gross_salary = basic_salary + hra + ta + da\n",
    "\n",
    "tax = 0.10 * gross_salary\n",
    "\n",
    "net_salary = gross_salary - tax\n",
    "\n",
    "print(\"Gross Salary: {}\".format(gross_salary))\n",
    "print(\"Tax: {}\".format(tax))\n",
    "print(\"Net Salary: {}\".format(net_salary))"
   ]
  },
  {
   "cell_type": "markdown",
   "id": "303960e4",
   "metadata": {},
   "source": [
    "# 3. Write a python program to search for a string in the given list."
   ]
  },
  {
   "cell_type": "code",
   "execution_count": 6,
   "id": "9820629e",
   "metadata": {},
   "outputs": [
    {
     "name": "stdout",
     "output_type": "stream",
     "text": [
      "Enter the string to search for: apple\n",
      "The string 'apple' was found in the list.\n"
     ]
    }
   ],
   "source": [
    "string_list = [\"apple\", \"banana\", \"cherry\", \"date\", \"grape\"]\n",
    "search_string = input(\"Enter the string to search for: \")\n",
    "found = False\n",
    "\n",
    "for s in string_list:\n",
    "    if search_string.lower() == s.lower():\n",
    "        found = True\n",
    "        break\n",
    "\n",
    "if found:\n",
    "    print(\"The string '{}' was found in the list.\".format(search_string))\n",
    "else:\n",
    "    print(\"The string '{}' was not found in the list.\".format(search_string))"
   ]
  },
  {
   "cell_type": "markdown",
   "id": "e52a9105",
   "metadata": {},
   "source": [
    "# 4. Write a Python function that accepts a string and calculates the number of upper-case letters and lower-case letters."
   ]
  },
  {
   "cell_type": "code",
   "execution_count": 8,
   "id": "19b67bb6",
   "metadata": {},
   "outputs": [
    {
     "name": "stdout",
     "output_type": "stream",
     "text": [
      "Enter a string: Anubhav\n",
      "Uppercase letters: 1\n",
      "Lowercase letters: 6\n"
     ]
    }
   ],
   "source": [
    "def count_upper_and_lower_case_letters(input_string):\n",
    "    uppercase_count = 0\n",
    "    lowercase_count = 0\n",
    "\n",
    "    for char in input_string:\n",
    "        if char.isupper():\n",
    "            uppercase_count += 1\n",
    "        elif char.islower():\n",
    "            lowercase_count += 1\n",
    "\n",
    "    return uppercase_count, lowercase_count\n",
    "\n",
    "user_string = input(\"Enter a string: \")\n",
    "\n",
    "uppercase, lowercase = count_upper_and_lower_case_letters(user_string)\n",
    "\n",
    "print(\"Uppercase letters: {}\".format(uppercase))\n",
    "print(\"Lowercase letters: {}\".format(lowercase))"
   ]
  },
  {
   "cell_type": "markdown",
   "id": "d90d84c9",
   "metadata": {},
   "source": [
    "# 5. Write a program to display the sum of odd numbers and even numbers that fall between 12 and 37."
   ]
  },
  {
   "cell_type": "code",
   "execution_count": 9,
   "id": "8c583d13",
   "metadata": {},
   "outputs": [
    {
     "name": "stdout",
     "output_type": "stream",
     "text": [
      "Sum of even numbers between 12 and 37: 312\n",
      "Sum of odd numbers between 12 and 37: 325\n"
     ]
    }
   ],
   "source": [
    "even_sum = 0\n",
    "odd_sum = 0\n",
    "\n",
    "for num in range(12, 38):\n",
    "    if num % 2 == 0:\n",
    "        even_sum += num \n",
    "    else:\n",
    "        odd_sum += num \n",
    "\n",
    "print(\"Sum of even numbers between 12 and 37: {}\".format(even_sum))\n",
    "print(\"Sum of odd numbers between 12 and 37: {}\".format(odd_sum))"
   ]
  },
  {
   "cell_type": "markdown",
   "id": "28fc5d43",
   "metadata": {},
   "source": [
    "# 6  Write a python Program to print the table of any number."
   ]
  },
  {
   "cell_type": "code",
   "execution_count": 10,
   "id": "9ac7ba0c",
   "metadata": {},
   "outputs": [
    {
     "name": "stdout",
     "output_type": "stream",
     "text": [
      "Enter a number to print its multiplication table: 2\n",
      "Multiplication table for 2:\n",
      "2 x 1 = 2\n",
      "2 x 2 = 4\n",
      "2 x 3 = 6\n",
      "2 x 4 = 8\n",
      "2 x 5 = 10\n",
      "2 x 6 = 12\n",
      "2 x 7 = 14\n",
      "2 x 8 = 16\n",
      "2 x 9 = 18\n",
      "2 x 10 = 20\n"
     ]
    }
   ],
   "source": [
    "num = int(input(\"Enter a number to print its multiplication table: \"))\n",
    "\n",
    "table_range = range(1, 11)\n",
    "\n",
    "print(\"Multiplication table for {}:\".format(num))\n",
    "for i in table_range:\n",
    "    result = num * i\n",
    "    print(\"{} x {} = {}\".format(num,i,result))"
   ]
  },
  {
   "cell_type": "markdown",
   "id": "f634e742",
   "metadata": {},
   "source": [
    "# 7.Write a Python program to sum the first 10 prime numbers."
   ]
  },
  {
   "cell_type": "code",
   "execution_count": 11,
   "id": "b50876d8",
   "metadata": {},
   "outputs": [
    {
     "name": "stdout",
     "output_type": "stream",
     "text": [
      "The sum of the first 10 prime numbers is: 129\n"
     ]
    }
   ],
   "source": [
    "count_primes = 0\n",
    "sum_primes = 0\n",
    "num = 2 \n",
    "\n",
    "def is_prime(n):\n",
    "    if n <= 1:\n",
    "        return False\n",
    "\n",
    "    for i in range(2, n):\n",
    "        if n % i == 0:\n",
    "            return False\n",
    "\n",
    "    return True\n",
    "\n",
    "while count_primes < 10:\n",
    "    if is_prime(num):\n",
    "        sum_primes += num\n",
    "        count_primes += 1\n",
    "    num += 1\n",
    "\n",
    "print(\"The sum of the first 10 prime numbers is: {}\".format(sum_primes))"
   ]
  },
  {
   "cell_type": "markdown",
   "id": "ea844e1b",
   "metadata": {},
   "source": [
    "# 8. Write a python program to implement arithmetic operations using nested if statement."
   ]
  },
  {
   "cell_type": "code",
   "execution_count": 12,
   "id": "3786c90c",
   "metadata": {},
   "outputs": [
    {
     "name": "stdout",
     "output_type": "stream",
     "text": [
      "Enter the first number: 2\n",
      "Enter the second number: 3\n",
      "Enter the operation (+, -, *, /): +\n",
      "Result: 5.0\n"
     ]
    }
   ],
   "source": [
    "num1 = float(input(\"Enter the first number: \"))\n",
    "num2 = float(input(\"Enter the second number: \"))\n",
    "operation = input(\"Enter the operation (+, -, *, /): \")\n",
    "\n",
    "result = None\n",
    "\n",
    "if operation == \"+\":\n",
    "    result = num1 + num2\n",
    "elif operation == \"-\":\n",
    "    result = num1 - num2\n",
    "elif operation == \"*\":\n",
    "    result = num1 * num2\n",
    "elif operation == \"/\":\n",
    "    if num2 == 0:\n",
    "        print(\"Error: Division by zero is not allowed.\")\n",
    "    else:\n",
    "        result = num1 / num2\n",
    "else:\n",
    "    print(\"Invalid operation!\")\n",
    "\n",
    "if result is not None:\n",
    "    print(\"Result: {}\".format(result))"
   ]
  },
  {
   "cell_type": "markdown",
   "id": "b6bdc670",
   "metadata": {},
   "source": [
    "# 9. Write a python program to take the temperature in Celsius and convert it to a Fahrenheit."
   ]
  },
  {
   "cell_type": "code",
   "execution_count": 13,
   "id": "82de9d01",
   "metadata": {},
   "outputs": [
    {
     "name": "stdout",
     "output_type": "stream",
     "text": [
      "Enter the temperature in Celsius: 298\n",
      "The temperature in Fahrenheit is: 568.4°F\n"
     ]
    }
   ],
   "source": [
    "celsius = float(input(\"Enter the temperature in Celsius: \"))\n",
    "fahrenheit = (celsius * 9/5) + 32\n",
    "print(\"The temperature in Fahrenheit is: {}°F\".format(fahrenheit))"
   ]
  },
  {
   "cell_type": "markdown",
   "id": "79227a09",
   "metadata": {},
   "source": [
    "# 10. Write a python program to find a maximum and minimum number in a list without using an inbuilt function"
   ]
  },
  {
   "cell_type": "code",
   "execution_count": 1,
   "id": "ad028ac7",
   "metadata": {},
   "outputs": [
    {
     "ename": "KeyboardInterrupt",
     "evalue": "Interrupted by user",
     "output_type": "error",
     "traceback": [
      "\u001b[1;31m---------------------------------------------------------------------------\u001b[0m",
      "\u001b[1;31mKeyboardInterrupt\u001b[0m                         Traceback (most recent call last)",
      "Cell \u001b[1;32mIn[1], line 1\u001b[0m\n\u001b[1;32m----> 1\u001b[0m numbers \u001b[38;5;241m=\u001b[39m \u001b[38;5;28minput\u001b[39m(\u001b[38;5;124m\"\u001b[39m\u001b[38;5;124mEnter a list of numbers separated by spaces: \u001b[39m\u001b[38;5;124m\"\u001b[39m)\u001b[38;5;241m.\u001b[39msplit()\n\u001b[0;32m      3\u001b[0m numbers \u001b[38;5;241m=\u001b[39m [\u001b[38;5;28mint\u001b[39m(num) \u001b[38;5;28;01mfor\u001b[39;00m num \u001b[38;5;129;01min\u001b[39;00m numbers]\n\u001b[0;32m      5\u001b[0m max_num \u001b[38;5;241m=\u001b[39m numbers[\u001b[38;5;241m0\u001b[39m]\n",
      "File \u001b[1;32m~\\anaconda3\\Lib\\site-packages\\ipykernel\\kernelbase.py:1175\u001b[0m, in \u001b[0;36mKernel.raw_input\u001b[1;34m(self, prompt)\u001b[0m\n\u001b[0;32m   1171\u001b[0m \u001b[38;5;28;01mif\u001b[39;00m \u001b[38;5;129;01mnot\u001b[39;00m \u001b[38;5;28mself\u001b[39m\u001b[38;5;241m.\u001b[39m_allow_stdin:\n\u001b[0;32m   1172\u001b[0m     \u001b[38;5;28;01mraise\u001b[39;00m StdinNotImplementedError(\n\u001b[0;32m   1173\u001b[0m         \u001b[38;5;124m\"\u001b[39m\u001b[38;5;124mraw_input was called, but this frontend does not support input requests.\u001b[39m\u001b[38;5;124m\"\u001b[39m\n\u001b[0;32m   1174\u001b[0m     )\n\u001b[1;32m-> 1175\u001b[0m \u001b[38;5;28;01mreturn\u001b[39;00m \u001b[38;5;28mself\u001b[39m\u001b[38;5;241m.\u001b[39m_input_request(\n\u001b[0;32m   1176\u001b[0m     \u001b[38;5;28mstr\u001b[39m(prompt),\n\u001b[0;32m   1177\u001b[0m     \u001b[38;5;28mself\u001b[39m\u001b[38;5;241m.\u001b[39m_parent_ident[\u001b[38;5;124m\"\u001b[39m\u001b[38;5;124mshell\u001b[39m\u001b[38;5;124m\"\u001b[39m],\n\u001b[0;32m   1178\u001b[0m     \u001b[38;5;28mself\u001b[39m\u001b[38;5;241m.\u001b[39mget_parent(\u001b[38;5;124m\"\u001b[39m\u001b[38;5;124mshell\u001b[39m\u001b[38;5;124m\"\u001b[39m),\n\u001b[0;32m   1179\u001b[0m     password\u001b[38;5;241m=\u001b[39m\u001b[38;5;28;01mFalse\u001b[39;00m,\n\u001b[0;32m   1180\u001b[0m )\n",
      "File \u001b[1;32m~\\anaconda3\\Lib\\site-packages\\ipykernel\\kernelbase.py:1217\u001b[0m, in \u001b[0;36mKernel._input_request\u001b[1;34m(self, prompt, ident, parent, password)\u001b[0m\n\u001b[0;32m   1214\u001b[0m             \u001b[38;5;28;01mbreak\u001b[39;00m\n\u001b[0;32m   1215\u001b[0m \u001b[38;5;28;01mexcept\u001b[39;00m \u001b[38;5;167;01mKeyboardInterrupt\u001b[39;00m:\n\u001b[0;32m   1216\u001b[0m     \u001b[38;5;66;03m# re-raise KeyboardInterrupt, to truncate traceback\u001b[39;00m\n\u001b[1;32m-> 1217\u001b[0m     \u001b[38;5;28;01mraise\u001b[39;00m \u001b[38;5;167;01mKeyboardInterrupt\u001b[39;00m(\u001b[38;5;124m\"\u001b[39m\u001b[38;5;124mInterrupted by user\u001b[39m\u001b[38;5;124m\"\u001b[39m) \u001b[38;5;28;01mfrom\u001b[39;00m \u001b[38;5;28;01mNone\u001b[39;00m\n\u001b[0;32m   1218\u001b[0m \u001b[38;5;28;01mexcept\u001b[39;00m \u001b[38;5;167;01mException\u001b[39;00m:\n\u001b[0;32m   1219\u001b[0m     \u001b[38;5;28mself\u001b[39m\u001b[38;5;241m.\u001b[39mlog\u001b[38;5;241m.\u001b[39mwarning(\u001b[38;5;124m\"\u001b[39m\u001b[38;5;124mInvalid Message:\u001b[39m\u001b[38;5;124m\"\u001b[39m, exc_info\u001b[38;5;241m=\u001b[39m\u001b[38;5;28;01mTrue\u001b[39;00m)\n",
      "\u001b[1;31mKeyboardInterrupt\u001b[0m: Interrupted by user"
     ]
    }
   ],
   "source": [
    "numbers = input(\"Enter a list of numbers separated by spaces: \").split()\n",
    "\n",
    "numbers = [int(num) for num in numbers]\n",
    "\n",
    "max_num = numbers[0]\n",
    "min_num = numbers[0]\n",
    "\n",
    "for num in numbers:\n",
    "    if num > max_num:\n",
    "        max_num = num\n",
    "    if num < min_num:\n",
    "        min_num = num\n",
    "\n",
    "print(\"Maximum number: {}\".format(max_num))\n",
    "print(\"Minimum number: {}\".format(min_num))"
   ]
  },
  {
   "cell_type": "markdown",
   "id": "05f5b681",
   "metadata": {},
   "source": [
    "# 11. Write a program in python to print out the number of seconds in 30-day month 30 days, 24 hours in a day, 60 minutes per day, 60 seconds in a minute."
   ]
  },
  {
   "cell_type": "code",
   "execution_count": 2,
   "id": "d252e606",
   "metadata": {},
   "outputs": [
    {
     "name": "stdout",
     "output_type": "stream",
     "text": [
      "Number of seconds in a 30-day month: 2592000\n"
     ]
    }
   ],
   "source": [
    "days_in_month = 30\n",
    "hours_in_day = 24\n",
    "minutes_in_hour = 60\n",
    "seconds_in_minute = 60\n",
    "\n",
    "seconds_in_30_days = days_in_month * hours_in_day * minutes_in_hour * seconds_in_minute\n",
    "print(\"Number of seconds in a 30-day month:\", seconds_in_30_days)"
   ]
  },
  {
   "cell_type": "markdown",
   "id": "301bc301",
   "metadata": {},
   "source": [
    "# 12. Write a program in python to print out the number of seconds in a year"
   ]
  },
  {
   "cell_type": "code",
   "execution_count": 3,
   "id": "030d9374",
   "metadata": {},
   "outputs": [
    {
     "name": "stdout",
     "output_type": "stream",
     "text": [
      "Number of seconds in a year: 31536000\n"
     ]
    }
   ],
   "source": [
    "days_in_year = 365\n",
    "seconds_in_a_year = days_in_year * hours_in_day * minutes_in_hour * seconds_in_minute\n",
    "print(\"Number of seconds in a year:\", seconds_in_a_year)"
   ]
  },
  {
   "cell_type": "markdown",
   "id": "aece9025",
   "metadata": {},
   "source": [
    "# 13. A high-speed train can travel at an average speed of 150 mph, how long will it take a train travelling at this speed to travel from London to Glasgow which is 414 miles away?"
   ]
  },
  {
   "cell_type": "code",
   "execution_count": 7,
   "id": "2e2d7a3d",
   "metadata": {},
   "outputs": [
    {
     "name": "stdout",
     "output_type": "stream",
     "text": [
      "Time to travel from London to Glasgow: 2.76 hours\n"
     ]
    }
   ],
   "source": [
    "average_speed_mph = 150\n",
    "distance_in_miles = 414\n",
    "\n",
    "time_hours = distance_in_miles / average_speed_mph\n",
    "print(\"Time to travel from London to Glasgow:\", time_hours, \"hours\")"
   ]
  },
  {
   "cell_type": "markdown",
   "id": "f6e26239",
   "metadata": {},
   "source": [
    "# 14. Write a python program that defines a variable called days_in_each_school_year and assign 192 to the variable. The program should then print out the total hours that you spend in school from year 7 to year 11, if each day you spend 6 hours in school days_in_each_school_year-192"
   ]
  },
  {
   "cell_type": "code",
   "execution_count": 8,
   "id": "c26e935a",
   "metadata": {},
   "outputs": [
    {
     "name": "stdout",
     "output_type": "stream",
     "text": [
      "Total hours spent in school from year 7 to year 11: 5760 hours\n"
     ]
    }
   ],
   "source": [
    "days_in_each_school_year = 192\n",
    "total_hours_in_school = (11 - 7 + 1) * days_in_each_school_year * 6\n",
    "\n",
    "print(\"Total hours spent in school from year 7 to year 11:\", total_hours_in_school, \"hours\")"
   ]
  },
  {
   "cell_type": "markdown",
   "id": "1e7d0b67",
   "metadata": {},
   "source": [
    "# 15 if the age of Ram,Sam and Khan are input through the determine the eldest and youngest of the three. keyboard,write a python program"
   ]
  },
  {
   "cell_type": "code",
   "execution_count": 9,
   "id": "036230b9",
   "metadata": {},
   "outputs": [
    {
     "name": "stdout",
     "output_type": "stream",
     "text": [
      "Enter Ram's age: 2\n",
      "Enter Sam's age: 5\n",
      "Enter Khan's age: 8\n",
      "Oldest: 8 years old\n",
      "Youngest: 2 years old\n"
     ]
    }
   ],
   "source": [
    "ram_age = int(input(\"Enter Ram's age: \"))\n",
    "sam_age = int(input(\"Enter Sam's age: \"))\n",
    "khan_age = int(input(\"Enter Khan's age: \"))\n",
    "\n",
    "ages = [ram_age, sam_age, khan_age]\n",
    "oldest = max(ages)\n",
    "youngest = min(ages)\n",
    "\n",
    "print(\"Oldest:\", oldest, \"years old\")\n",
    "print(\"Youngest:\", youngest, \"years old\")"
   ]
  },
  {
   "cell_type": "markdown",
   "id": "f8f15d85",
   "metadata": {},
   "source": [
    "# 16. Write a python program to rotate a list by right n times with and without slicing technique."
   ]
  },
  {
   "cell_type": "code",
   "execution_count": 10,
   "id": "ff9b9140",
   "metadata": {},
   "outputs": [
    {
     "name": "stdout",
     "output_type": "stream",
     "text": [
      "Original List: [1, 2, 3, 4, 5]\n",
      "Rotated List with Slicing: [4, 5, 1, 2, 3]\n"
     ]
    }
   ],
   "source": [
    "# using slicing \n",
    "def rotate_list_with_slicing(lst, n):\n",
    "    n %= len(lst)\n",
    "    return lst[-n:] + lst[:-n]\n",
    "\n",
    "original_list = [1, 2, 3, 4, 5]\n",
    "n = 2\n",
    "rotated_list = rotate_list_with_slicing(original_list, n)\n",
    "print(\"Original List:\", original_list)\n",
    "print(\"Rotated List with Slicing:\", rotated_list)"
   ]
  },
  {
   "cell_type": "code",
   "execution_count": 11,
   "id": "fce39971",
   "metadata": {},
   "outputs": [
    {
     "name": "stdout",
     "output_type": "stream",
     "text": [
      "Original List: [4, 5, 1, 2, 3]\n",
      "Rotated List without Slicing: [4, 5, 1, 2, 3]\n"
     ]
    }
   ],
   "source": [
    "# without using slicing\n",
    "def rotate_list_without_slicing(lst, n):\n",
    "    n %= len(lst)\n",
    "    for _ in range(n):\n",
    "        last_element = lst.pop()\n",
    "        lst.insert(0, last_element)\n",
    "    return lst\n",
    "\n",
    "original_list = [1, 2, 3, 4, 5]\n",
    "n = 2\n",
    "rotated_list = rotate_list_without_slicing(original_list, n)\n",
    "print(\"Original List:\", original_list)\n",
    "print(\"Rotated List without Slicing:\", rotated_list)"
   ]
  },
  {
   "cell_type": "markdown",
   "id": "7af17d5d",
   "metadata": {},
   "source": [
    "# 17 .Python program to print the patterns given below:"
   ]
  },
  {
   "cell_type": "code",
   "execution_count": 12,
   "id": "426b6bcc",
   "metadata": {},
   "outputs": [
    {
     "name": "stdout",
     "output_type": "stream",
     "text": [
      "1 \n",
      "1 1 \n",
      "1 2 1 \n",
      "1 3 3 1 \n",
      "1 4 6 4 1 \n",
      "1 5 10 10 5 1 \n",
      "1 6 15 20 15 6 1 \n"
     ]
    }
   ],
   "source": [
    "def print_pascal_triangle(size):\n",
    "    for i in range(0, size):\n",
    "        for j in range(0, i + 1):\n",
    "            print(decide_number(i, j), end=\" \")\n",
    "        print()\n",
    "def decide_number(n, k):\n",
    "    num = 1\n",
    "    if k > n - k:\n",
    "        k = n - k\n",
    "    for i in range(0, k):\n",
    "        num = num * (n - i)\n",
    "        num = num // (i + 1)\n",
    "    return num\n",
    "rows = 7\n",
    "print_pascal_triangle(rows)"
   ]
  },
  {
   "cell_type": "code",
   "execution_count": 13,
   "id": "385f6a15",
   "metadata": {},
   "outputs": [
    {
     "name": "stdout",
     "output_type": "stream",
     "text": [
      "Enter row number= \n",
      "4\n",
      "#\n",
      "##\n",
      "###\n",
      "####\n"
     ]
    }
   ],
   "source": [
    "x=int(input(\"Enter row number= \\n\"))\n",
    "for i in range(x):\n",
    "    for j in range(i+1):\n",
    "        print(\"#\",end='')\n",
    "    print(\"\")"
   ]
  },
  {
   "cell_type": "code",
   "execution_count": 14,
   "id": "d5790b06",
   "metadata": {},
   "outputs": [
    {
     "name": "stdout",
     "output_type": "stream",
     "text": [
      "      * \r\n",
      "     * * \r\n",
      "    * * * \r\n",
      "   * * * * \r\n",
      "  * * * * * \r\n",
      " * * * * * * \r\n",
      "* * * * * * * \r\n"
     ]
    }
   ],
   "source": [
    "def triangle(n):\n",
    "    k = n - 1\n",
    "    for i in range(0, n):\n",
    "        for j in range(0, k):\n",
    "            print(end=\" \")\n",
    "        k = k - 1\n",
    "        for j in range(0, i+1):\n",
    "            print(\"* \", end=\"\")\n",
    "        print(\"\\r\")\n",
    "n = 7\n",
    "triangle(n)"
   ]
  },
  {
   "cell_type": "code",
   "execution_count": null,
   "id": "a46112b8",
   "metadata": {},
   "outputs": [],
   "source": []
  }
 ],
 "metadata": {
  "kernelspec": {
   "display_name": "Python 3 (ipykernel)",
   "language": "python",
   "name": "python3"
  },
  "language_info": {
   "codemirror_mode": {
    "name": "ipython",
    "version": 3
   },
   "file_extension": ".py",
   "mimetype": "text/x-python",
   "name": "python",
   "nbconvert_exporter": "python",
   "pygments_lexer": "ipython3",
   "version": "3.11.4"
  }
 },
 "nbformat": 4,
 "nbformat_minor": 5
}
