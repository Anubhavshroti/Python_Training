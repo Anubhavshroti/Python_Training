{
 "cells": [
  {
   "cell_type": "markdown",
   "id": "efac65bf",
   "metadata": {},
   "source": [
    "# 1.Write a python program with Exception handing to input marks for five subjects Physics, Chemistry, Biology, Mathematics, and Computer, Calculate the percentage and grade according\n",
    "\n",
    "to the following:\n",
    "\n",
    "Percentage >90% Grade A\n",
    "\n",
    "Percentage 80% Grade B\n",
    "\n",
    "Percentage 70% Grade C\n",
    "\n",
    "Percentage 60% Grade D\n",
    "\n",
    "Percentage 40% Grade I Percentage 40% Grade\n"
   ]
  },
  {
   "cell_type": "code",
   "execution_count": 5,
   "id": "1bba764b",
   "metadata": {},
   "outputs": [
    {
     "name": "stdout",
     "output_type": "stream",
     "text": [
      "Enter Physics marks: 4\n",
      "Enter Chemistry marks: 5\n",
      "Enter Biology marks: 7\n",
      "Enter Mathematics marks: 9\n",
      "Enter Computer marks: \n",
      "Invalid input! Please enter valid numerical marks.\n"
     ]
    }
   ],
   "source": [
    "try:\n",
    "\n",
    "    phy = float(input(\"Enter Physics marks: \"))\n",
    "    che = float(input(\"Enter Chemistry marks: \"))\n",
    "    bio = float(input(\"Enter Biology marks: \"))\n",
    "    math = float(input(\"Enter Mathematics marks: \"))\n",
    "    com = float(input(\"Enter Computer marks: \"))\n",
    "\n",
    "    # Calculate the total marks and percentage\n",
    "    total_marks = phy + che + bio + math + com\n",
    "    percentage = (total_marks / 500) * 100\n",
    "\n",
    "    # Determine the grade based on the percentage\n",
    "    if percentage > 90:\n",
    "        grade = \"A\"\n",
    "    elif percentage >= 80:\n",
    "        grade = \"B\"\n",
    "    elif percentage >= 70:\n",
    "        grade = \"C\"\n",
    "    elif percentage >= 60:\n",
    "        grade = \"D\"\n",
    "    else:\n",
    "        grade = \"Fail\"\n",
    "\n",
    "    # Print the percentage and grade\n",
    "    print(f\"Percentage: {percentage:.2f}%\")\n",
    "    print(f\"Grade: {grade}\")\n",
    "\n",
    "except ValueError:\n",
    "    print(\"Invalid input! Please enter valid numerical marks.\")\n",
    "except Exception as e:\n",
    "    print(f\"An error occurred: {str(e)}\")\n"
   ]
  },
  {
   "cell_type": "markdown",
   "id": "d7a847c5",
   "metadata": {},
   "source": [
    "# 2.Write a python program with Exception handling to input electricity unit charges and calculate\n",
    "\n",
    "The total electricity bill according to the given condition\n",
    "\n",
    "For the first 50 units Rt.0.50/\n",
    "\n",
    "For the next 100 units is 0.75/nit\n",
    "\n",
    "For the next 100 units 120/\n",
    "\n",
    "M For units above 250 Rs. 1.50/unit\n",
    "\n",
    "M An additional surcharge of 20 is added to the bill."
   ]
  },
  {
   "cell_type": "code",
   "execution_count": 23,
   "id": "46ef1f44",
   "metadata": {},
   "outputs": [
    {
     "name": "stdout",
     "output_type": "stream",
     "text": [
      "Enter total units consumed: 2\n",
      "Total Electricity Bill: Rs. 21.00\n"
     ]
    }
   ],
   "source": [
    "try:\n",
    "    total_units = int(input(\"Enter total units consumed: \"))\n",
    "\n",
    "   \n",
    "    bill = 0\n",
    "    surcharge = 20\n",
    "    \n",
    "    if total_units <= 50:\n",
    "        bill = total_units * 0.50\n",
    "    elif total_units <= 150:\n",
    "        bill = (50 * 0.50) + ((total_units - 50) * 0.75)\n",
    "    elif total_units <= 250:\n",
    "        bill = (50 * 0.50) + (100 * 0.75) + ((total_units - 150) * 1.20)\n",
    "    else:\n",
    "        bill = (50 * 0.50) + (100 * 0.75) + (100 * 1.20) + ((total_units - 250) * 1.50)\n",
    "\n",
    "    total_bill = bill + surcharge\n",
    "\n",
    "    print(f\"Total Electricity Bill: Rs. {total_bill:.2f}\")\n",
    "\n",
    "except ValueError:\n",
    "    print(\"Invalid input! Please enter a valid number of units.\")\n",
    "except Exception as e:\n",
    "    print(f\"An error occurred: {str(e)}\")\n"
   ]
  },
  {
   "cell_type": "markdown",
   "id": "be1d5189",
   "metadata": {},
   "source": [
    "# 3 Write a python program with Exception handling to input the week number and print the weekday"
   ]
  },
  {
   "cell_type": "code",
   "execution_count": 24,
   "id": "b7dc1005",
   "metadata": {},
   "outputs": [
    {
     "name": "stdout",
     "output_type": "stream",
     "text": [
      "Enter a week number (1-7): 7\n",
      "The weekday for week number 7 is Sunday.\n"
     ]
    }
   ],
   "source": [
    "try:\n",
    "    week_number = int(input(\"Enter a week number (1-7): \"))\n",
    "\n",
    "    if 1 <= week_number and week_number <= 7:\n",
    "        weekdays = [\"Monday\", \"Tuesday\", \"Wednesday\", \"Thursday\", \"Friday\", \"Saturday\", \"Sunday\"]\n",
    "        weekday = weekdays[week_number - 1]\n",
    "        print(\"The weekday for week number {} is {}.\".format(week_number,weekday))\n",
    "    else:\n",
    "        print(\"Invalid week number. Please enter a number between 1 and 7.\")\n",
    "except ValueError:\n",
    "    print(\"Invalid input. Please enter a valid number between 1 and 7.\")\n",
    "except IndexError:\n",
    "    print(\"Invalid week number. Please enter a number between 1 and 7.\")"
   ]
  },
  {
   "cell_type": "markdown",
   "id": "eb3154c6",
   "metadata": {},
   "source": [
    "# 4 Write a Python program to implement word count using command line arguments\n",
    "\n",
    "Create a test document \"apple.tr\" which contains text for wordcount Create & wondcount program which calls the \"apple tur\" document by opening the file\n",
    "\n",
    "If the word is present again in the \"saple.the worden in incremented by 1 until all\n",
    "\n",
    "the words are counted in the document M Clone the file\n",
    "\n",
    "v) Create a command gy program which imports the wondcount.py program\n",
    "\n",
    "VO Count the number of words using command line arguments Print cach word and its cou"
   ]
  },
  {
   "cell_type": "code",
   "execution_count": null,
   "id": "23910d1f",
   "metadata": {},
   "outputs": [],
   "source": [
    "5. Write a Python program for finding the most frequent words in a text read from a file.\n",
    "\n",
    "a.Initially open the sest file in read mode.\n",
    "b.Make all the letiers in the document into lowercase letters and split the words in each\n",
    "c.Get the words in an ceder\n",
    "d.Sort the words for finding the most frequent words in the file\n",
    "e.print the most friquent word in the file."
   ]
  },
  {
   "cell_type": "code",
   "execution_count": 32,
   "id": "cd31a44f",
   "metadata": {},
   "outputs": [
    {
     "name": "stdout",
     "output_type": "stream",
     "text": [
      "Enter the name of the text file: test1.txt\n",
      "The 10 most frequent words in the file are:\n",
      "this: 2 times\n",
      "hello,anubhav: 1 times\n",
      "shroti: 1 times\n",
      "from: 1 times\n",
      "mphasis: 1 times\n",
      "side.: 1 times\n",
      "is: 1 times\n",
      "a: 1 times\n",
      "test: 1 times\n",
      "file: 1 times\n"
     ]
    }
   ],
   "source": [
    "# i) Initially open the text file in read mode.\n",
    "\n",
    "try:\n",
    "    file_name = input(\"Enter the name of the text file: \")\n",
    "    with open(file_name, 'r') as file:\n",
    "        text = file.read()\n",
    "\n",
    "# ii) Make all the letters in the document into lowercase letters and split the words in each line.\n",
    "    \n",
    "    words = text.lower().split()\n",
    "\n",
    "# iii) Get the words in an order\n",
    "\n",
    "    word_count = {}\n",
    "    for word in words:\n",
    "        if word in word_count:\n",
    "            word_count[word] += 1\n",
    "        else:\n",
    "            word_count[word] = 1\n",
    "\n",
    "# iv) Sort the words for finding the most frequent words in the file\n",
    "\n",
    "    sorted_words = sorted(word_count.items(), key=lambda x: x[1], reverse=True)\n",
    "\n",
    "# v) Print the most frequent words in the file.\n",
    "\n",
    "    num_words_to_print = min(10, len(sorted_words))\n",
    "    print(\"The {} most frequent words in the file are:\".format(num_words_to_print))\n",
    "    for i in range(num_words_to_print):\n",
    "        word, frequency = sorted_words[i]\n",
    "        print(\"{}: {} times\".format(word,frequency))\n",
    "except FileNotFoundError:\n",
    "    print(\"The file '{}' was not found.\".format(file_name))\n",
    "except Exception as e:\n",
    "    print(\"An error occurred: {}\".format(str(e)))"
   ]
  },
  {
   "cell_type": "code",
   "execution_count": null,
   "id": "f6542a25",
   "metadata": {},
   "outputs": [],
   "source": []
  },
  {
   "cell_type": "code",
   "execution_count": null,
   "id": "0e0687f9",
   "metadata": {},
   "outputs": [],
   "source": []
  }
 ],
 "metadata": {
  "kernelspec": {
   "display_name": "Python 3 (ipykernel)",
   "language": "python",
   "name": "python3"
  },
  "language_info": {
   "codemirror_mode": {
    "name": "ipython",
    "version": 3
   },
   "file_extension": ".py",
   "mimetype": "text/x-python",
   "name": "python",
   "nbconvert_exporter": "python",
   "pygments_lexer": "ipython3",
   "version": "3.11.4"
  }
 },
 "nbformat": 4,
 "nbformat_minor": 5
}
