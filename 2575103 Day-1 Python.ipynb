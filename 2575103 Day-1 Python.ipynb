{
 "cells": [
  {
   "cell_type": "markdown",
   "id": "524284a6",
   "metadata": {},
   "source": [
    "# Manipulate using a list:\n",
    "    1- To add new elements to the end of the list.\n",
    "    2- To reverse element of the list.\n",
    "    3- To display the same list of the element multiples times.\n",
    "    4- To concatenate two list.\n",
    "    5- To sort the element in the list in asecnding order."
   ]
  },
  {
   "cell_type": "code",
   "execution_count": 37,
   "id": "5b1b2f28",
   "metadata": {},
   "outputs": [
    {
     "name": "stdout",
     "output_type": "stream",
     "text": [
      "[1, 2, 3, 4]\n"
     ]
    }
   ],
   "source": [
    "#To add new elements to the end of the list\n",
    "\n",
    "list = [1, 2, 3]  \n",
    "element = 4\n",
    "list.append(element)\n",
    "print(list)  # Output: [1, 2, 3, 4]\n",
    "\n"
   ]
  },
  {
   "cell_type": "code",
   "execution_count": 36,
   "id": "c06a8a9e",
   "metadata": {},
   "outputs": [
    {
     "name": "stdout",
     "output_type": "stream",
     "text": [
      "[4, 3, 2, 1]\n"
     ]
    }
   ],
   "source": [
    "#To reverse element of the list.\n",
    "list.reverse()\n",
    "print(list)"
   ]
  },
  {
   "cell_type": "code",
   "execution_count": 39,
   "id": "f035996d",
   "metadata": {},
   "outputs": [
    {
     "name": "stdout",
     "output_type": "stream",
     "text": [
      "[1, 2, 3, 4, 1, 2, 3, 4, 1, 2, 3, 4, 1, 2, 3, 4]\n"
     ]
    }
   ],
   "source": [
    "#To display the same list of the element multiples times.\n",
    "a = list*4\n",
    "print(a)"
   ]
  },
  {
   "cell_type": "code",
   "execution_count": 53,
   "id": "dbf2d58b",
   "metadata": {},
   "outputs": [
    {
     "name": "stdout",
     "output_type": "stream",
     "text": [
      "[1, 2, 10, 9, 5, 6, 5, 3, 9, 4, 80, 100]\n"
     ]
    }
   ],
   "source": [
    "#To concatenate two list.\n",
    "list1 = [1,2,10,9,5]\n",
    "list2 = [6,5,3,9,4,80,100]\n",
    "con = list1+list2\n",
    "print(con)\n"
   ]
  },
  {
   "cell_type": "code",
   "execution_count": 54,
   "id": "8244181c",
   "metadata": {},
   "outputs": [
    {
     "name": "stdout",
     "output_type": "stream",
     "text": [
      "[1, 2, 3, 4, 5, 5, 6, 9, 9, 10, 80, 100]\n"
     ]
    }
   ],
   "source": [
    "#To sort the element in the list in asecnding order.\n",
    "con.sort()\n",
    "print(con)"
   ]
  },
  {
   "cell_type": "markdown",
   "id": "d996a1ae",
   "metadata": {},
   "source": [
    "# Write a python program to do in the tuples.\n",
    "    1- Manipulate using tuples.\n",
    "    2- To add element to the end of the tuple.\n",
    "    3- To reverse elemet in the tuple\n",
    "    4- To display the elements of the same tuple multiple times.\n",
    "    5- to sort the element in the list in asc order.\n",
    "    "
   ]
  },
  {
   "cell_type": "code",
   "execution_count": 62,
   "id": "d3c41853",
   "metadata": {},
   "outputs": [
    {
     "name": "stdout",
     "output_type": "stream",
     "text": [
      "(1, 2, 3)\n"
     ]
    }
   ],
   "source": [
    "#1- Manipulate using tuples.\n",
    "tuple = (1, 2, 3)\n",
    "print(tuple)"
   ]
  },
  {
   "cell_type": "code",
   "execution_count": 64,
   "id": "39f79f08",
   "metadata": {},
   "outputs": [
    {
     "name": "stdout",
     "output_type": "stream",
     "text": [
      "(1, 2, 3, 4)\n"
     ]
    }
   ],
   "source": [
    "# 2- To add element to the end of the tuple.\n",
    "#my_tuple = (1, 2, 3)\n",
    "element = 4\n",
    "new_tuple = tuple + (element,)\n",
    "\n",
    "print(new_tuple)\n"
   ]
  },
  {
   "cell_type": "code",
   "execution_count": 69,
   "id": "bd82b48f",
   "metadata": {},
   "outputs": [
    {
     "name": "stdout",
     "output_type": "stream",
     "text": [
      "(4, 3, 2, 1)\n"
     ]
    }
   ],
   "source": [
    "# To reverse elemet in the tuple\n",
    "reverse = new_tuple[::-1]\n",
    "print(reverse)"
   ]
  },
  {
   "cell_type": "code",
   "execution_count": 70,
   "id": "fa5ad93d",
   "metadata": {},
   "outputs": [
    {
     "name": "stdout",
     "output_type": "stream",
     "text": [
      "(4, 3, 2, 1, 4, 3, 2, 1, 4, 3, 2, 1, 4, 3, 2, 1)\n"
     ]
    }
   ],
   "source": [
    "#4- To display the elements of the same tuple multiple times.\n",
    "a= reverse*4\n",
    "print(a)"
   ]
  },
  {
   "cell_type": "code",
   "execution_count": 76,
   "id": "dedead0c",
   "metadata": {},
   "outputs": [
    {
     "ename": "TypeError",
     "evalue": "'tuple' object is not callable",
     "output_type": "error",
     "traceback": [
      "\u001b[1;31m---------------------------------------------------------------------------\u001b[0m",
      "\u001b[1;31mTypeError\u001b[0m                                 Traceback (most recent call last)",
      "Cell \u001b[1;32mIn[76], line 3\u001b[0m\n\u001b[0;32m      1\u001b[0m \u001b[38;5;66;03m#5- To sort the element in the list in asc order.\u001b[39;00m\n\u001b[0;32m      2\u001b[0m tuple_ \u001b[38;5;241m=\u001b[39m (\u001b[38;5;241m5\u001b[39m, \u001b[38;5;241m2\u001b[39m, \u001b[38;5;241m24\u001b[39m, \u001b[38;5;241m3\u001b[39m, \u001b[38;5;241m1\u001b[39m, \u001b[38;5;241m6\u001b[39m, \u001b[38;5;241m7\u001b[39m)  \n\u001b[1;32m----> 3\u001b[0m sorted_ \u001b[38;5;241m=\u001b[39m \u001b[38;5;28mtuple\u001b[39m(\u001b[38;5;28msorted\u001b[39m(tuple_))  \n\u001b[0;32m      4\u001b[0m \u001b[38;5;28mprint\u001b[39m(\u001b[38;5;124m'\u001b[39m\u001b[38;5;124mSorted Tuple :\u001b[39m\u001b[38;5;124m'\u001b[39m, sorted_)  \n\u001b[0;32m      5\u001b[0m \u001b[38;5;28mprint\u001b[39m(\u001b[38;5;28mtype\u001b[39m(sorted_))\n",
      "\u001b[1;31mTypeError\u001b[0m: 'tuple' object is not callable"
     ]
    }
   ],
   "source": [
    "#5- To sort the element in the list in asc order.\n",
    "tuple_ = (5, 2, 24, 3, 1, 6, 7)  \n",
    "sorted_ = tuple(sorted(tuple_))  \n",
    "print('Sorted Tuple :', sorted_)  \n",
    "print(type(sorted_))  "
   ]
  },
  {
   "cell_type": "markdown",
   "id": "e2ae5cce",
   "metadata": {},
   "source": [
    "# Write  a python program to omplementation the following using list\n",
    "    1- create a lsit with the integer(Min. 10 numbers)\n",
    "    2- How to display the last number.\n",
    "    3- Command for displaying the values from the list [0:4]\n",
    "    4- Command for display the values from the list [2:]\n",
    "    5- Command for displaying the values  from the list [:6]\n",
    "    "
   ]
  },
  {
   "cell_type": "code",
   "execution_count": 77,
   "id": "965feb23",
   "metadata": {},
   "outputs": [
    {
     "name": "stdout",
     "output_type": "stream",
     "text": [
      "[1, 2, 3, 4, 5, 6, 7, 8, 9, 10]\n"
     ]
    }
   ],
   "source": [
    "#1- create a lsit with the integer(Min. 10 numbers)\n",
    "l = [1, 2, 3, 4, 5, 6, 7, 8, 9, 10]\n",
    "print(l)"
   ]
  },
  {
   "cell_type": "code",
   "execution_count": 83,
   "id": "6f0c3442",
   "metadata": {},
   "outputs": [
    {
     "name": "stdout",
     "output_type": "stream",
     "text": [
      "10\n"
     ]
    }
   ],
   "source": [
    "# 2- How to display the last number.\n",
    "last_number = l[-1]\n",
    "print(last_number)\n"
   ]
  },
  {
   "cell_type": "code",
   "execution_count": 84,
   "id": "06cf3067",
   "metadata": {},
   "outputs": [
    {
     "name": "stdout",
     "output_type": "stream",
     "text": [
      "[1, 2, 3, 4]\n"
     ]
    }
   ],
   "source": [
    "#Command for displaying the values from the list [0:4]\n",
    "a = l[0:4]\n",
    "print(a)"
   ]
  },
  {
   "cell_type": "code",
   "execution_count": 85,
   "id": "a689185e",
   "metadata": {},
   "outputs": [
    {
     "name": "stdout",
     "output_type": "stream",
     "text": [
      "[3, 4, 5, 6, 7, 8, 9, 10]\n"
     ]
    }
   ],
   "source": [
    "#Command for display the values from the list [2:]\n",
    "a = l[2:]\n",
    "print(a)"
   ]
  },
  {
   "cell_type": "code",
   "execution_count": 86,
   "id": "1e732826",
   "metadata": {},
   "outputs": [
    {
     "name": "stdout",
     "output_type": "stream",
     "text": [
      "[1, 2, 3, 4, 5, 6]\n"
     ]
    }
   ],
   "source": [
    "# 5- Command for displaying the values  from the list [:6]\n",
    "a = l[:6]\n",
    "print(a)"
   ]
  },
  {
   "cell_type": "markdown",
   "id": "dbee297b",
   "metadata": {},
   "source": [
    "# write a python program:tuple1 = (10,50,20,40,30)\n",
    "    1- To display element 10 and 50 from tuple1.\n",
    "    2- To display length form tuple1.\n",
    "    3- To find the minimum element form tuple1\n",
    "    4- to add all the element in the tuple1.\n",
    "    5- To display the same tuple1 multiples times.\n",
    "    "
   ]
  }
 ],
 "metadata": {
  "kernelspec": {
   "display_name": "Python 3 (ipykernel)",
   "language": "python",
   "name": "python3"
  },
  "language_info": {
   "codemirror_mode": {
    "name": "ipython",
    "version": 3
   },
   "file_extension": ".py",
   "mimetype": "text/x-python",
   "name": "python",
   "nbconvert_exporter": "python",
   "pygments_lexer": "ipython3",
   "version": "3.11.4"
  }
 },
 "nbformat": 4,
 "nbformat_minor": 5
}
