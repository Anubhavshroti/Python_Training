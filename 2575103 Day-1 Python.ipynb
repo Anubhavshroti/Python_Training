{
 "cells": [
  {
   "cell_type": "markdown",
   "id": "524284a6",
   "metadata": {},
   "source": [
    "# Q1: Manipulate using a list:\n",
    "    1- To add new elements to the end of the list.\n",
    "    2- To reverse element of the list.\n",
    "    3- To display the same list of the element multiples times.\n",
    "    4- To concatenate two list.\n",
    "    5- To sort the element in the list in asecnding order."
   ]
  },
  {
   "cell_type": "code",
   "execution_count": 37,
   "id": "5b1b2f28",
   "metadata": {},
   "outputs": [
    {
     "name": "stdout",
     "output_type": "stream",
     "text": [
      "[1, 2, 3, 4]\n"
     ]
    }
   ],
   "source": [
    "#To add new elements to the end of the list\n",
    "\n",
    "list = [1, 2, 3]  \n",
    "element = 4\n",
    "list.append(element)\n",
    "print(list)  # Output: [1, 2, 3, 4]\n",
    "\n"
   ]
  },
  {
   "cell_type": "code",
   "execution_count": 36,
   "id": "c06a8a9e",
   "metadata": {},
   "outputs": [
    {
     "name": "stdout",
     "output_type": "stream",
     "text": [
      "[4, 3, 2, 1]\n"
     ]
    }
   ],
   "source": [
    "#To reverse element of the list.\n",
    "list.reverse()\n",
    "print(list)"
   ]
  },
  {
   "cell_type": "code",
   "execution_count": 39,
   "id": "f035996d",
   "metadata": {},
   "outputs": [
    {
     "name": "stdout",
     "output_type": "stream",
     "text": [
      "[1, 2, 3, 4, 1, 2, 3, 4, 1, 2, 3, 4, 1, 2, 3, 4]\n"
     ]
    }
   ],
   "source": [
    "#To display the same list of the element multiples times.\n",
    "a = list*4\n",
    "print(a)"
   ]
  },
  {
   "cell_type": "code",
   "execution_count": 53,
   "id": "dbf2d58b",
   "metadata": {},
   "outputs": [
    {
     "name": "stdout",
     "output_type": "stream",
     "text": [
      "[1, 2, 10, 9, 5, 6, 5, 3, 9, 4, 80, 100]\n"
     ]
    }
   ],
   "source": [
    "#To concatenate two list.\n",
    "list1 = [1,2,10,9,5]\n",
    "list2 = [6,5,3,9,4,80,100]\n",
    "con = list1+list2\n",
    "print(con)\n"
   ]
  },
  {
   "cell_type": "code",
   "execution_count": 54,
   "id": "8244181c",
   "metadata": {},
   "outputs": [
    {
     "name": "stdout",
     "output_type": "stream",
     "text": [
      "[1, 2, 3, 4, 5, 5, 6, 9, 9, 10, 80, 100]\n"
     ]
    }
   ],
   "source": [
    "#To sort the element in the list in asecnding order.\n",
    "con.sort()\n",
    "print(con)"
   ]
  },
  {
   "cell_type": "markdown",
   "id": "d996a1ae",
   "metadata": {},
   "source": [
    "# Q2: Write a python program to do in the tuples.\n",
    "    1- Manipulate using tuples.\n",
    "    2- To add element to the end of the tuple.\n",
    "    3- To reverse elemet in the tuple\n",
    "    4- To display the elements of the same tuple multiple times.\n",
    "    5- to sort the element in the list in asc order.\n",
    "    "
   ]
  },
  {
   "cell_type": "code",
   "execution_count": 62,
   "id": "d3c41853",
   "metadata": {},
   "outputs": [
    {
     "name": "stdout",
     "output_type": "stream",
     "text": [
      "(1, 2, 3)\n"
     ]
    }
   ],
   "source": [
    "#1- Manipulate using tuples.\n",
    "tuple = (1, 2, 3)\n",
    "print(tuple)"
   ]
  },
  {
   "cell_type": "code",
   "execution_count": 64,
   "id": "39f79f08",
   "metadata": {},
   "outputs": [
    {
     "name": "stdout",
     "output_type": "stream",
     "text": [
      "(1, 2, 3, 4)\n"
     ]
    }
   ],
   "source": [
    "# 2- To add element to the end of the tuple.\n",
    "#my_tuple = (1, 2, 3)\n",
    "element = 4\n",
    "new_tuple = tuple + (element,)\n",
    "\n",
    "print(new_tuple)\n"
   ]
  },
  {
   "cell_type": "code",
   "execution_count": 69,
   "id": "bd82b48f",
   "metadata": {},
   "outputs": [
    {
     "name": "stdout",
     "output_type": "stream",
     "text": [
      "(4, 3, 2, 1)\n"
     ]
    }
   ],
   "source": [
    "# To reverse elemet in the tuple\n",
    "reverse = new_tuple[::-1]\n",
    "print(reverse)"
   ]
  },
  {
   "cell_type": "code",
   "execution_count": 70,
   "id": "fa5ad93d",
   "metadata": {},
   "outputs": [
    {
     "name": "stdout",
     "output_type": "stream",
     "text": [
      "(4, 3, 2, 1, 4, 3, 2, 1, 4, 3, 2, 1, 4, 3, 2, 1)\n"
     ]
    }
   ],
   "source": [
    "#4- To display the elements of the same tuple multiple times.\n",
    "a= reverse*4\n",
    "print(a)"
   ]
  },
  {
   "cell_type": "code",
   "execution_count": 1,
   "id": "dedead0c",
   "metadata": {},
   "outputs": [
    {
     "name": "stdout",
     "output_type": "stream",
     "text": [
      "Sorted Tuple : (1, 2, 3, 5, 6, 7, 24)\n",
      "<class 'tuple'>\n"
     ]
    }
   ],
   "source": [
    "#5- To sort the element in the list in asc order.\n",
    "tuple1 = (5, 2, 24, 3, 1, 6, 7)  \n",
    "sorted1 = tuple(sorted(tuple1))  \n",
    "print('Sorted Tuple :', sorted1)  \n",
    "print(type(sorted1))  "
   ]
  },
  {
   "cell_type": "markdown",
   "id": "e2ae5cce",
   "metadata": {},
   "source": [
    "# Q3: Write  a python program to omplementation the following using list\n",
    "    1- create a lsit with the integer(Min. 10 numbers)\n",
    "    2- How to display the last number.\n",
    "    3- Command for displaying the values from the list [0:4]\n",
    "    4- Command for display the values from the list [2:]\n",
    "    5- Command for displaying the values  from the list [:6]\n",
    "    "
   ]
  },
  {
   "cell_type": "code",
   "execution_count": 77,
   "id": "965feb23",
   "metadata": {},
   "outputs": [
    {
     "name": "stdout",
     "output_type": "stream",
     "text": [
      "[1, 2, 3, 4, 5, 6, 7, 8, 9, 10]\n"
     ]
    }
   ],
   "source": [
    "#1- create a lsit with the integer(Min. 10 numbers)\n",
    "l = [1, 2, 3, 4, 5, 6, 7, 8, 9, 10]\n",
    "print(l)"
   ]
  },
  {
   "cell_type": "code",
   "execution_count": 83,
   "id": "6f0c3442",
   "metadata": {},
   "outputs": [
    {
     "name": "stdout",
     "output_type": "stream",
     "text": [
      "10\n"
     ]
    }
   ],
   "source": [
    "# 2- How to display the last number.\n",
    "last_number = l[-1]\n",
    "print(last_number)\n"
   ]
  },
  {
   "cell_type": "code",
   "execution_count": 84,
   "id": "06cf3067",
   "metadata": {},
   "outputs": [
    {
     "name": "stdout",
     "output_type": "stream",
     "text": [
      "[1, 2, 3, 4]\n"
     ]
    }
   ],
   "source": [
    "#Command for displaying the values from the list [0:4]\n",
    "a = l[0:4]\n",
    "print(a)"
   ]
  },
  {
   "cell_type": "code",
   "execution_count": 85,
   "id": "a689185e",
   "metadata": {},
   "outputs": [
    {
     "name": "stdout",
     "output_type": "stream",
     "text": [
      "[3, 4, 5, 6, 7, 8, 9, 10]\n"
     ]
    }
   ],
   "source": [
    "#Command for display the values from the list [2:]\n",
    "a = l[2:]\n",
    "print(a)"
   ]
  },
  {
   "cell_type": "code",
   "execution_count": 86,
   "id": "1e732826",
   "metadata": {},
   "outputs": [
    {
     "name": "stdout",
     "output_type": "stream",
     "text": [
      "[1, 2, 3, 4, 5, 6]\n"
     ]
    }
   ],
   "source": [
    "# 5- Command for displaying the values  from the list [:6]\n",
    "a = l[:6]\n",
    "print(a)"
   ]
  },
  {
   "cell_type": "markdown",
   "id": "dbee297b",
   "metadata": {},
   "source": [
    "# Q4: write a python program:tuple1 = (10,50,20,40,30)\n",
    "    1- To display element 10 and 50 from tuple1.\n",
    "    2- To display length form tuple1.\n",
    "    3- To find the minimum element form tuple1\n",
    "    4- to add all the element in the tuple1.\n",
    "    5- To display the same tuple1 multiples times.\n",
    "    "
   ]
  },
  {
   "cell_type": "code",
   "execution_count": 4,
   "id": "0c07320b",
   "metadata": {},
   "outputs": [
    {
     "name": "stdout",
     "output_type": "stream",
     "text": [
      "Element 10: 10\n",
      "Element 50: 50\n"
     ]
    }
   ],
   "source": [
    "# 1- To display element 10 and 50 from tuple1\n",
    "tuple1 = (10, 50, 20, 40, 30)\n",
    "element_10 = tuple1[0]\n",
    "element_50 = tuple1[1]\n",
    "\n",
    "print(\"Element 10:\", element_10)\n",
    "print(\"Element 50:\", element_50)"
   ]
  },
  {
   "cell_type": "code",
   "execution_count": 5,
   "id": "c90a35c0",
   "metadata": {},
   "outputs": [
    {
     "data": {
      "text/plain": [
       "5"
      ]
     },
     "execution_count": 5,
     "metadata": {},
     "output_type": "execute_result"
    }
   ],
   "source": [
    "#2- To display length form tuple1.\n",
    "len(tuple1)"
   ]
  },
  {
   "cell_type": "code",
   "execution_count": 7,
   "id": "78b11b09",
   "metadata": {},
   "outputs": [
    {
     "name": "stdout",
     "output_type": "stream",
     "text": [
      "Original Tuple: (10, 50, 20, 40, 30)\n",
      "Sorted Tuple: (10, 20, 30, 40, 50)\n"
     ]
    }
   ],
   "source": [
    "#- To find the minimum element form tuple1\n",
    "sorted_list = sorted(tuple1)\n",
    "sorted_tuple = tuple(sorted_list)\n",
    "print(\"Sorted Tuple:\", sorted_tuple)\n"
   ]
  },
  {
   "cell_type": "code",
   "execution_count": 12,
   "id": "0f2b5466",
   "metadata": {},
   "outputs": [
    {
     "name": "stdout",
     "output_type": "stream",
     "text": [
      "Total : 150\n"
     ]
    }
   ],
   "source": [
    "#4- to add all the element in the tuple1\n",
    "add = sum(tuple1)\n",
    "print(\"Total :\",add)"
   ]
  },
  {
   "cell_type": "code",
   "execution_count": 16,
   "id": "c06d8ea8",
   "metadata": {},
   "outputs": [
    {
     "name": "stdout",
     "output_type": "stream",
     "text": [
      "(10, 50, 20, 40, 30, 10, 50, 20, 40, 30, 10, 50, 20, 40, 30, 10, 50, 20, 40, 30)\n"
     ]
    }
   ],
   "source": [
    "#5- To display the same tuple1 multiples times.\n",
    "a = tuple1*4\n",
    "print(a)"
   ]
  },
  {
   "cell_type": "markdown",
   "id": "18dd152d",
   "metadata": {},
   "source": [
    "# Q5: Write a python Program.\n",
    "    1- To calculate the length of the string.\n",
    "    2- To reverse the word in the string.\n",
    "    3- To diaplay the same string multiple times.\n",
    "    4- To concatenate two string.\n",
    "    5- str1 = \"South India\", using string slicing to display \"India\".\n",
    "    "
   ]
  },
  {
   "cell_type": "code",
   "execution_count": 30,
   "id": "9b3b2472",
   "metadata": {},
   "outputs": [
    {
     "name": "stdout",
     "output_type": "stream",
     "text": [
      "15\n"
     ]
    }
   ],
   "source": [
    "#1- To calculate the length of the string.\n",
    "string = 'Python Training'\n",
    "length = len(string)\n",
    "print(length)\n",
    "\n"
   ]
  },
  {
   "cell_type": "code",
   "execution_count": 31,
   "id": "ff4b9e3c",
   "metadata": {},
   "outputs": [
    {
     "name": "stdout",
     "output_type": "stream",
     "text": [
      "Original String: Python Training\n",
      "Reversed String: Training Python\n"
     ]
    }
   ],
   "source": [
    "# 2- To reverse the word in the string.\n",
    "words = string.split()            # Split the string into words\n",
    "reversed_words = words[::-1]         # Reverse the order of the words\n",
    "reversed_string = ' '.join(reversed_words) # Join the reversed words back into a string\n",
    "\n",
    "print(\"Original String:\", string)\n",
    "print(\"Reversed String:\", reversed_string)\n"
   ]
  },
  {
   "cell_type": "code",
   "execution_count": 33,
   "id": "b735e839",
   "metadata": {},
   "outputs": [
    {
     "name": "stdout",
     "output_type": "stream",
     "text": [
      "Python TrainingPython TrainingPython TrainingPython Training\n"
     ]
    }
   ],
   "source": [
    "# 3- To diaplay the same string multiple times.\n",
    "reverse  = string*4\n",
    "print(reverse)"
   ]
  },
  {
   "cell_type": "code",
   "execution_count": 36,
   "id": "e42dc499",
   "metadata": {},
   "outputs": [
    {
     "name": "stdout",
     "output_type": "stream",
     "text": [
      "Day1Day2\n"
     ]
    }
   ],
   "source": [
    "# 4- To concatenate two string.\n",
    "String1 = \"Day1\"\n",
    "String2 = \"Day2\"\n",
    "con = String1+String2\n",
    "print(con)\n"
   ]
  },
  {
   "cell_type": "code",
   "execution_count": 38,
   "id": "bb2d62b0",
   "metadata": {},
   "outputs": [
    {
     "name": "stdout",
     "output_type": "stream",
     "text": [
      "India\n"
     ]
    }
   ],
   "source": [
    "#5- str1 = \"South India\", using string slicing to display \"India\".\n",
    "str1 = \"South India\"\n",
    "india = str1[6:]\n",
    "print(india)\n"
   ]
  },
  {
   "cell_type": "code",
   "execution_count": null,
   "id": "f64dc7a4",
   "metadata": {},
   "outputs": [],
   "source": []
  }
 ],
 "metadata": {
  "kernelspec": {
   "display_name": "Python 3 (ipykernel)",
   "language": "python",
   "name": "python3"
  },
  "language_info": {
   "codemirror_mode": {
    "name": "ipython",
    "version": 3
   },
   "file_extension": ".py",
   "mimetype": "text/x-python",
   "name": "python",
   "nbconvert_exporter": "python",
   "pygments_lexer": "ipython3",
   "version": "3.11.4"
  }
 },
 "nbformat": 4,
 "nbformat_minor": 5
}
