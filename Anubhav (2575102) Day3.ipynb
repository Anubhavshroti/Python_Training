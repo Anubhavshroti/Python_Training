{
 "cells": [
  {
   "cell_type": "code",
   "execution_count": 2,
   "id": "5833b05e",
   "metadata": {},
   "outputs": [
    {
     "name": "stdout",
     "output_type": "stream",
     "text": [
      "Hello Mphasis\n",
      "Anubhav Shroti\n"
     ]
    }
   ],
   "source": [
    "file = open('E:\\\\Mphasis\\\\Phase 1 VS Code\\\\Python Training\\\\Day3 File Handling.txt','r')\n",
    "   # for each_row in file:\n",
    "print(file.read()) \n",
    "file.close()"
   ]
  },
  {
   "cell_type": "code",
   "execution_count": 6,
   "id": "d132da76",
   "metadata": {},
   "outputs": [
    {
     "name": "stdout",
     "output_type": "stream",
     "text": [
      "{'Name': 'Anubhav', 'Age': '24', 'Company': 'Mphasis'}\n"
     ]
    }
   ],
   "source": [
    "d1= {\n",
    "      \"Name\":\"Anubhav\",\n",
    "      \"Age\" : \"24\",\n",
    "      \"Company\": \"Mphasis\"\n",
    "    \n",
    "}\n",
    "print(d1)\n"
   ]
  },
  {
   "cell_type": "markdown",
   "id": "7b9a2670",
   "metadata": {},
   "source": [
    "# Q1.Write a python function that copies a file reading and writing up to 50 characters at a time."
   ]
  },
  {
   "cell_type": "code",
   "execution_count": 36,
   "id": "2ffe1644",
   "metadata": {},
   "outputs": [],
   "source": [
    "def copy_file(source_file, destination_file):\n",
    "    chunk_size = 50\n",
    "    try:\n",
    "        with open(source_file, 'r') as source, open(destination_file, 'w') as destination:\n",
    "            while True:\n",
    "                chunk = source.read(chunk_size)\n",
    "                if not chunk:\n",
    "                    break\n",
    "                destination.write(chunk)\n",
    "    except FileNotFoundError:\n",
    "        print(f\"File not found: {source_file}\")\n",
    "    except Exception as e:\n",
    "        print(f\"An error occurred: {str(e)}\")\n",
    "\n",
    "\n",
    "source_file = 'E:\\Mphasis\\Phase 1 VS Code\\Python Training\\File1.txt'\n",
    "destination_file = 'E:\\Mphasis\\Phase 1 VS Code\\Python Training\\File2.txt'\n",
    "copy_file(source_file, destination_file)\n"
   ]
  },
  {
   "cell_type": "markdown",
   "id": "10ea3fef",
   "metadata": {},
   "source": [
    "# 2. Print all numbers present in the text file and print the number of blank spaces in that file."
   ]
  },
  {
   "cell_type": "code",
   "execution_count": 13,
   "id": "9019ad25",
   "metadata": {},
   "outputs": [
    {
     "name": "stdout",
     "output_type": "stream",
     "text": [
      "Hello,Anubhav Shroti from Mphasis this side.\n",
      "This is a test file for question 2.\n",
      "The number blank spaces in the test file are :  13\n"
     ]
    }
   ],
   "source": [
    "with open('test.txt', 'w') as file:\n",
    "    file.write(\"Hello,Anubhav Shroti from Mphasis this side.\\n\")\n",
    "    file.write(\"This is a test file for question 2.\")\n",
    "\n",
    "with open('test.txt', 'r') as file:\n",
    "    file_contents = file.read()\n",
    "\n",
    "print(file_contents)\n",
    "\n",
    "file = open(\"test.txt\", \"r\")\n",
    "\n",
    "count = 0\n",
    "\n",
    "while True:\n",
    "    char = file.read(1)\n",
    "    if char.isspace():\n",
    "        count += 1\n",
    "    if not char:\n",
    "        break\n",
    "\n",
    "print(\"The number blank spaces in the test file are : \",count)"
   ]
  },
  {
   "cell_type": "markdown",
   "id": "ff5d1f7e",
   "metadata": {},
   "source": [
    "# 3. Write a function called sed that takes as arguments a pattern string, a replacement string. and two filenames; it should read the first file and write the contents into the second file (creating it if necessary). If the pattern string appears anywhere in the file, it should be replaced with the replacement string. If an error occurs while opening, reading, writing, or closing files, your program should catch the exception, print an error message, and exit."
   ]
  },
  {
   "cell_type": "code",
   "execution_count": 25,
   "id": "371c85ce",
   "metadata": {},
   "outputs": [
    {
     "name": "stdout",
     "output_type": "stream",
     "text": [
      "Pattern ' Anubhav ShRoti' replaced with 'anubhav shroti' successfully.\n"
     ]
    }
   ],
   "source": [
    "def sed(pattern, replacement, input_filename, output_filename):\n",
    "    try:\n",
    "        with open(input_filename, 'r') as input_file:\n",
    "            file_content = input_file.read()\n",
    "        modified_content = file_content.replace(pattern, replacement)\n",
    "        with open(output_filename, 'w') as output_file:\n",
    "            output_file.write(modified_content)\n",
    "        print(f\"Pattern '{pattern}' replaced with '{replacement}' successfully.\")\n",
    "    except FileNotFoundError:\n",
    "        print(f\"Error: The file '{input_filename}' was not found.\")\n",
    "    except Exception as e:\n",
    "        print(f\"An error occurred: {e}\")\n",
    "pattern = \" Anubhav ShRoti\"\n",
    "replacement = \"anubhav shroti\"\n",
    "input_filename = \"input.txt\"\n",
    "output_filename = \"output.txt\"\n",
    "\n",
    "sed(pattern, replacement, input_filename, output_filename)"
   ]
  },
  {
   "cell_type": "markdown",
   "id": "2a3b7cdb",
   "metadata": {},
   "source": [
    "# 5 Text File Search and Replace: You have a text file with a large amount of text, and you want to search for specific words or phrases and replace them with new content.\n",
    "\n",
    "a. Write Python code to search for and replace text within a text file.\n",
    "\n",
    "b. How would you handle cases where you need to perform multiple replacements in a single pass?\n"
   ]
  },
  {
   "cell_type": "code",
   "execution_count": 41,
   "id": "a943e35f",
   "metadata": {},
   "outputs": [],
   "source": [
    "#a\n",
    "def search_and_replace(file_path, search_str, replace_str):\n",
    "    with open(file_path, 'r') as file:\n",
    "        file_content = file.read()\n",
    "\n",
    "    modified_content = file_content.replace(search_str, replace_str)\n",
    "\n",
    "    with open(file_path, 'w') as file:\n",
    "        file.write(modified_content)\n",
    "\n",
    "input_file_path = 'E:\\Mphasis\\Phase 1 VS Code\\Python Training\\File1.txt'\n",
    "search_term = 'Python'\n",
    "replacement = 'Java'\n",
    "\n",
    "search_and_replace(input_file_path, search_term, replacement)"
   ]
  },
  {
   "cell_type": "code",
   "execution_count": 45,
   "id": "1a2924d9",
   "metadata": {},
   "outputs": [],
   "source": [
    "#b\n",
    "def multiple_search_and_replace(file_path, replace_dict):\n",
    "    with open(file_path, 'r') as file:\n",
    "        file_content = file.read()\n",
    "\n",
    "    for search_str, replace_str in replace_dict.items():\n",
    "        file_content = file_content.replace(search_str, replace_str)\n",
    "\n",
    "    with open(file_path, 'w') as file:\n",
    "        file.write(file_content)\n",
    "\n",
    "input_file_path = 'E:\\Mphasis\\Phase 1 VS Code\\Python Training\\File2.txt'\n",
    "replacements = {\n",
    "    'Anubhav': 'Shroti',\n",
    "    'C': 'C++',\n",
    "    'Java': 'Python',\n",
    "}\n",
    "\n",
    "multiple_search_and_replace(input_file_path, replacements)"
   ]
  },
  {
   "cell_type": "markdown",
   "id": "62c5d43b",
   "metadata": {},
   "source": [
    "# Q6. Write a Python script that concatenates the contents of multiple text files into a single output file. Allow the user to specify the input files and the output file."
   ]
  },
  {
   "cell_type": "code",
   "execution_count": 44,
   "id": "cfad989c",
   "metadata": {},
   "outputs": [
    {
     "name": "stdout",
     "output_type": "stream",
     "text": [
      "<_io.TextIOWrapper name='concatenated.txt' mode='w' encoding='cp1252'>\n"
     ]
    },
    {
     "data": {
      "text/plain": [
       "'Hello,Anubhav Shroti from Mphasis this side.\\nThis is a test file for question 2.Mphasis Next to gen'"
      ]
     },
     "execution_count": 44,
     "metadata": {},
     "output_type": "execute_result"
    }
   ],
   "source": [
    "file1 = open('test1.txt', 'r')\n",
    "file2 = open('test2.txt', 'r')\n",
    "content1 = file1.read()\n",
    "content2 = file2.read()\n",
    "file1.close()\n",
    "file2.close()\n",
    "destination_file = open('concatenated.txt', 'w')\n",
    "destination_file.write(content1 + content2)\n",
    "destination_file.close()\n",
    "print(destination_file)\n",
    "destination_file = open('concatenated.txt', 'r')\n",
    "destination_file.read()"
   ]
  },
  {
   "cell_type": "markdown",
   "id": "ae5a8635",
   "metadata": {},
   "source": [
    "# Q7"
   ]
  },
  {
   "cell_type": "code",
   "execution_count": 4,
   "id": "392f83b1",
   "metadata": {},
   "outputs": [
    {
     "name": "stdout",
     "output_type": "stream",
     "text": [
      "[2023-09-09\n",
      "21:51:29]\n",
      "Executing\n",
      "bootstrap\n",
      "tasks\n",
      "[2023-09-09\n",
      "21:51:29]\n",
      "OpenJDK\n",
      "Runtime\n",
      "Environment\n",
      "17.0.7+7\n",
      "[2023-09-09\n",
      "21:51:29]\n",
      "Product\n",
      "org.eclipse.products.epp.package.java.2023-06\n",
      "[2023-09-09\n",
      "21:51:29]\n",
      "Bundle\n",
      "org.eclipse.oomph.setup\n",
      "1.26.0.v20230416-0656,\n",
      "build=5945,\n",
      "branch=c5558820f367665758d4d719b7553a02ff4954e0\n",
      "[2023-09-09\n",
      "21:51:29]\n",
      "Bundle\n",
      "org.eclipse.oomph.setup.core\n",
      "1.27.0.v20230402-0730,\n",
      "build=5945,\n",
      "branch=c5558820f367665758d4d719b7553a02ff4954e0\n",
      "[2023-09-09\n",
      "21:51:29]\n",
      "Bundle\n",
      "org.eclipse.oomph.setup.p2\n",
      "1.19.0.v20230416-1150,\n",
      "build=5945,\n",
      "branch=c5558820f367665758d4d719b7553a02ff4954e0\n",
      "[2023-09-09\n",
      "21:51:29]\n",
      "Performing\n",
      "P2\n",
      "Director\n",
      "(Eclipse\n",
      "IDE\n",
      "for\n",
      "Java\n",
      "Developers\n",
      "(2023-06))\n",
      "[2023-09-09\n",
      "21:51:29]\n",
      "Offline\n",
      "=\n",
      "false\n",
      "[2023-09-09\n",
      "21:51:29]\n",
      "Mirrors\n",
      "=\n",
      "true\n",
      "[2023-09-09\n",
      "21:51:29]\n",
      "Resolving\n",
      "26\n",
      "requirements\n",
      "from\n",
      "3\n",
      "repositories\n",
      "to\n",
      "C:\\Users\\eluri\\eclipse\\java-2023-06\\eclipse\n",
      "[2023-09-09\n",
      "21:51:29]\n",
      "Requirement\n",
      "org.eclipse.equinox.p2.iu:epp.package.java\n",
      "[4.28.0,5.0.0)\n",
      "(filter=(|(&(osgi.arch=aarch64)(osgi.os=linux)(osgi.ws=gtk))(&(osgi.arch=aarch64)(osgi.os=macosx)(osgi.ws=cocoa))(&(osgi.arch=x86_64)(osgi.os=linux)(osgi.ws=gtk))(&(osgi.arch=x86_64)(osgi.os=macosx)(osgi.ws=cocoa))(&(osgi.arch=x86_64)(osgi.os=win32)(osgi.ws=win32))))\n",
      "[2023-09-09\n",
      "21:51:29]\n",
      "Requirement\n",
      "org.eclipse.equinox.p2.iu:org.eclipse.platform.feature.group\n",
      "[4.28.0,5.0.0)\n",
      "[2023-09-09\n",
      "21:51:29]\n",
      "Requirement\n",
      "org.eclipse.equinox.p2.iu:org.eclipse.rcp.feature.group\n",
      "[4.28.0,5.0.0)\n",
      "[2023-09-09\n",
      "21:51:29]\n",
      "Requirement\n",
      "org.eclipse.equinox.p2.iu:org.eclipse.buildship.feature.group\n",
      "[2023-09-09\n",
      "21:51:29]\n",
      "Requirement\n",
      "org.eclipse.equinox.p2.iu:org.eclipse.eclemma.feature.feature.group\n",
      "[2023-09-09\n",
      "21:51:29]\n",
      "Requirement\n",
      "org.eclipse.equinox.p2.iu:org.eclipse.egit.feature.group\n",
      "[2023-09-09\n",
      "21:51:29]\n",
      "Requirement\n",
      "org.eclipse.equinox.p2.iu:org.eclipse.epp.mpc.feature.group\n",
      "[2023-09-09\n",
      "21:51:29]\n",
      "Requirement\n",
      "org.eclipse.equinox.p2.iu:org.eclipse.jdt.bcoview.feature.feature.group\n",
      "[2023-09-09\n",
      "21:51:29]\n",
      "Requirement\n",
      "org.eclipse.equinox.p2.iu:org.eclipse.jdt.feature.group\n",
      "[2023-09-09\n",
      "21:51:29]\n",
      "Requirement\n",
      "org.eclipse.equinox.p2.iu:org.eclipse.jgit.feature.group\n",
      "[2023-09-09\n",
      "21:51:29]\n",
      "Requirement\n",
      "org.eclipse.equinox.p2.iu:org.eclipse.m2e.feature.feature.group\n",
      "[2023-09-09\n",
      "21:51:29]\n",
      "Requirement\n",
      "org.eclipse.equinox.p2.iu:org.eclipse.m2e.lemminx.feature.feature.group\n",
      "[2023-09-09\n",
      "21:51:29]\n",
      "Requirement\n",
      "org.eclipse.equinox.p2.iu:org.eclipse.m2e.logback.feature.feature.group\n",
      "[2023-09-09\n",
      "21:51:29]\n",
      "Requirement\n",
      "org.eclipse.equinox.p2.iu:org.eclipse.mylyn.commons.activity.feature.group\n",
      "[2023-09-09\n",
      "21:51:29]\n",
      "Requirement\n",
      "org.eclipse.equinox.p2.iu:org.eclipse.mylyn.egit.feature.feature.group\n",
      "[2023-09-09\n",
      "21:51:29]\n",
      "Requirement\n",
      "org.eclipse.equinox.p2.iu:org.eclipse.mylyn.git.feature.group\n"
     ]
    }
   ],
   "source": [
    "#a Read the words from logfile.\n",
    " \n",
    "        # Step 1: Open the log file\n",
    "log_file_path = \"E:\\Mphasis\\Phase 1 VS Code\\Python Training\\logfile.txt\"  # Replace with the path to your log file\n",
    "try:\n",
    "    with open('E:\\Mphasis\\Phase 1 VS Code\\Python Training\\logfile.txt', 'r') as log_file:\n",
    "        # Step 2: Read the content of the file\n",
    "        log_content = log_file.read()\n",
    "\n",
    "        # Step 3: Split the content into words\n",
    "        words = log_content.split()\n",
    "\n",
    "        # Now you have a list of words from the log file\n",
    "        for word in words:\n",
    "            print(word)\n",
    "except FileNotFoundError:\n",
    "    print(f\"The file '{E:\\Mphasis\\Phase 1 VS Code\\Python Training\\logfile.txt}' was not found.\")\n",
    "except Exception as e:\n",
    "    print(f\"An error occurred: {str(e)}\")\n"
   ]
  },
  {
   "cell_type": "code",
   "execution_count": 5,
   "id": "fb2073f7",
   "metadata": {},
   "outputs": [
    {
     "name": "stdout",
     "output_type": "stream",
     "text": [
      "Word: [2023-09-09, Length: 11\n",
      "Word: 21:51:29], Length: 9\n",
      "Word: Executing, Length: 9\n",
      "Word: bootstrap, Length: 9\n",
      "Word: tasks, Length: 5\n",
      "Word: OpenJDK, Length: 7\n",
      "Word: Runtime, Length: 7\n",
      "Word: Environment, Length: 11\n",
      "Word: 17.0.7+7, Length: 8\n",
      "Word: Product, Length: 7\n",
      "Word: org.eclipse.products.epp.package.java.2023-06, Length: 45\n",
      "Word: Bundle, Length: 6\n",
      "Word: org.eclipse.oomph.setup, Length: 23\n",
      "Word: 1.26.0.v20230416-0656,, Length: 22\n",
      "Word: build=5945,, Length: 11\n",
      "Word: branch=c5558820f367665758d4d719b7553a02ff4954e0, Length: 47\n",
      "Word: org.eclipse.oomph.setup.core, Length: 28\n",
      "Word: 1.27.0.v20230402-0730,, Length: 22\n",
      "Word: org.eclipse.oomph.setup.p2, Length: 26\n",
      "Word: 1.19.0.v20230416-1150,, Length: 22\n",
      "Word: Performing, Length: 10\n",
      "Word: P2, Length: 2\n",
      "Word: Director, Length: 8\n",
      "Word: (Eclipse, Length: 8\n",
      "Word: IDE, Length: 3\n",
      "Word: for, Length: 3\n",
      "Word: Java, Length: 4\n",
      "Word: Developers, Length: 10\n",
      "Word: (2023-06)), Length: 10\n",
      "Word: Offline, Length: 7\n",
      "Word: =, Length: 1\n",
      "Word: false, Length: 5\n",
      "Word: Mirrors, Length: 7\n",
      "Word: true, Length: 4\n",
      "Word: Resolving, Length: 9\n",
      "Word: 26, Length: 2\n",
      "Word: requirements, Length: 12\n",
      "Word: from, Length: 4\n",
      "Word: 3, Length: 1\n",
      "Word: repositories, Length: 12\n",
      "Word: to, Length: 2\n",
      "Word: C:\\Users\\eluri\\eclipse\\java-2023-06\\eclipse, Length: 43\n",
      "Word: Requirement, Length: 11\n",
      "Word: org.eclipse.equinox.p2.iu:epp.package.java, Length: 42\n",
      "Word: [4.28.0,5.0.0), Length: 14\n",
      "Word: (filter=(|(&(osgi.arch=aarch64)(osgi.os=linux)(osgi.ws=gtk))(&(osgi.arch=aarch64)(osgi.os=macosx)(osgi.ws=cocoa))(&(osgi.arch=x86_64)(osgi.os=linux)(osgi.ws=gtk))(&(osgi.arch=x86_64)(osgi.os=macosx)(osgi.ws=cocoa))(&(osgi.arch=x86_64)(osgi.os=win32)(osgi.ws=win32)))), Length: 267\n",
      "Word: org.eclipse.equinox.p2.iu:org.eclipse.platform.feature.group, Length: 60\n",
      "Word: org.eclipse.equinox.p2.iu:org.eclipse.rcp.feature.group, Length: 55\n",
      "Word: org.eclipse.equinox.p2.iu:org.eclipse.buildship.feature.group, Length: 61\n",
      "Word: org.eclipse.equinox.p2.iu:org.eclipse.eclemma.feature.feature.group, Length: 67\n",
      "Word: org.eclipse.equinox.p2.iu:org.eclipse.egit.feature.group, Length: 56\n",
      "Word: org.eclipse.equinox.p2.iu:org.eclipse.epp.mpc.feature.group, Length: 59\n",
      "Word: org.eclipse.equinox.p2.iu:org.eclipse.jdt.bcoview.feature.feature.group, Length: 71\n",
      "Word: org.eclipse.equinox.p2.iu:org.eclipse.jdt.feature.group, Length: 55\n",
      "Word: org.eclipse.equinox.p2.iu:org.eclipse.jgit.feature.group, Length: 56\n",
      "Word: org.eclipse.equinox.p2.iu:org.eclipse.m2e.feature.feature.group, Length: 63\n",
      "Word: org.eclipse.equinox.p2.iu:org.eclipse.m2e.lemminx.feature.feature.group, Length: 71\n",
      "Word: org.eclipse.equinox.p2.iu:org.eclipse.m2e.logback.feature.feature.group, Length: 71\n",
      "Word: org.eclipse.equinox.p2.iu:org.eclipse.mylyn.commons.activity.feature.group, Length: 74\n",
      "Word: org.eclipse.equinox.p2.iu:org.eclipse.mylyn.egit.feature.feature.group, Length: 70\n",
      "Word: org.eclipse.equinox.p2.iu:org.eclipse.mylyn.git.feature.group, Length: 61\n"
     ]
    }
   ],
   "source": [
    "#b\n",
    "\n",
    "# Step 1: Open the log file\n",
    "log_file_path = \"E:\\Mphasis\\Phase 1 VS Code\\Python Training\\logfile.txt\"  # Replace with the path to your log file\n",
    "word_lengths = {}  # Create an empty dictionary to store word lengths\n",
    "\n",
    "try:\n",
    "    with open('E:\\Mphasis\\Phase 1 VS Code\\Python Training\\logfile.txt', 'r') as log_file:\n",
    "        # Step 2: Read the content of the file\n",
    "        log_content = log_file.read()\n",
    "\n",
    "        # Step 3: Split the content into words\n",
    "        words = log_content.split()\n",
    "\n",
    "        # Calculate the length of each word and store it in the dictionary\n",
    "        for word in words:\n",
    "            word_lengths[word] = len(word)\n",
    "\n",
    "        # Now you have a dictionary with words as keys and their lengths as values\n",
    "        for word, length in word_lengths.items():\n",
    "            print(f\"Word: {word}, Length: {length}\")\n",
    "except FileNotFoundError:\n",
    "    print(f\"The file '{log_file_path}' was not found.\")\n",
    "except Exception as e:\n",
    "    print(f\"An error occurred: {str(e)}\")\n"
   ]
  },
  {
   "cell_type": "code",
   "execution_count": 16,
   "id": "1a35a226",
   "metadata": {},
   "outputs": [
    {
     "name": "stdout",
     "output_type": "stream",
     "text": [
      "Word-length dictionary has been written to output.txt\n"
     ]
    }
   ],
   "source": [
    "#c\n",
    "# Step 1: Open the log file\n",
    "log_file_path = \"E:\\Mphasis\\Phase 1 VS Code\\Python Training\\logfile.txt\"  # Replace with the path to your log file\n",
    "word_lengths = {}  # Create an empty dictionary to store word lengths\n",
    "\n",
    "try:\n",
    "    with open(\"E:\\Mphasis\\Phase 1 VS Code\\Python Training\\logfile.txt\", 'r') as log_file:\n",
    "        # Step 2: Read the content of the file\n",
    "        log_content = log_file.read()\n",
    "\n",
    "        # Step 3: Split the content into words\n",
    "        words = log_content.split()\n",
    "\n",
    "        # Calculate the length of each word and store it in the dictionary\n",
    "        for word in words:\n",
    "            word_lengths[word] = len(word)\n",
    "\n",
    "        # Step 4: Write the word-length dictionary to output.txt\n",
    "        with open(\"output.txt\", \"w\") as output_file:\n",
    "            for word, length in word_lengths.items():\n",
    "                output_file.write(f\"{word}: {length}\\n\")\n",
    "\n",
    "        print(\"Word-length dictionary has been written to output.txt\")\n",
    "except FileNotFoundError:\n",
    "    print(f\"The file '{log_file_path}' was not found.\")\n",
    "except Exception as e:\n",
    "    print(f\"An error occurred: {str(e)}\")\n",
    "output_file.close()"
   ]
  },
  {
   "cell_type": "markdown",
   "id": "ad3c2a40",
   "metadata": {},
   "source": [
    "# 8\n",
    "\n",
    "\n",
    "\n",
    "\n",
    "\n",
    "\n"
   ]
  },
  {
   "cell_type": "code",
   "execution_count": 18,
   "id": "36ee97f3",
   "metadata": {},
   "outputs": [
    {
     "name": "stdout",
     "output_type": "stream",
     "text": [
      "\n",
      "Student Gradebook System\n",
      "1. Input Grades\n",
      "2. View Grades\n",
      "3. Exit\n",
      "Enter your choice (1/2/3): 2\n",
      "Enter the subject: Eng\n",
      "No grades recorded for Eng yet.\n",
      "\n",
      "Student Gradebook System\n",
      "1. Input Grades\n",
      "2. View Grades\n",
      "3. Exit\n",
      "Enter your choice (1/2/3): 2\n",
      "Enter the subject: hin\n",
      "No grades recorded for hin yet.\n",
      "\n",
      "Student Gradebook System\n",
      "1. Input Grades\n",
      "2. View Grades\n",
      "3. Exit\n",
      "Enter your choice (1/2/3): 3\n",
      "Goodbye!\n"
     ]
    }
   ],
   "source": [
    "import os\n",
    "\n",
    "# Function to input and store student grades for a subject\n",
    "def input_grades(subject):\n",
    "    try:\n",
    "        file_name = f\"{subject}.txt\"\n",
    "        with open(file_name, \"a\") as file:\n",
    "            student_name = input(\"Enter student name: \")\n",
    "            grade = input(f\"Enter {subject} grade for {student_name}: \")\n",
    "            file.write(f\"{student_name}: {grade}\\n\")\n",
    "        print(f\"Grade for {student_name} in {subject} has been recorded.\")\n",
    "    except IOError as e:\n",
    "        print(f\"Error: {e}\")\n",
    "\n",
    "# Function to view student grades for a subject\n",
    "def view_grades(subject):\n",
    "    try:\n",
    "        file_name = f\"{subject}.txt\"\n",
    "        if not os.path.exists(file_name):\n",
    "            print(f\"No grades recorded for {subject} yet.\")\n",
    "            return\n",
    "\n",
    "        with open(file_name, \"r\") as file:\n",
    "            print(f\"Grades for {subject}:\")\n",
    "            for line in file:\n",
    "                print(line.strip())\n",
    "    except IOError as e:\n",
    "        print(f\"Error: {e}\")\n",
    "\n",
    "# Main program loop\n",
    "while True:\n",
    "    print(\"\\nStudent Gradebook System\")\n",
    "    print(\"1. Input Grades\")\n",
    "    print(\"2. View Grades\")\n",
    "    print(\"3. Exit\")\n",
    "\n",
    "    choice = input(\"Enter your choice (1/2/3): \")\n",
    "\n",
    "    if choice == \"1\":\n",
    "        subject = input(\"Enter the subject: \")\n",
    "        input_grades(subject)\n",
    "    elif choice == \"2\":\n",
    "        subject = input(\"Enter the subject: \")\n",
    "        view_grades(subject)\n",
    "    elif choice == \"3\":\n",
    "        break\n",
    "    else:\n",
    "        print(\"Invalid choice. Please enter 1, 2, or 3.\")\n",
    "\n",
    "print(\"Goodbye!\")"
   ]
  },
  {
   "cell_type": "code",
   "execution_count": null,
   "id": "a95cef9b",
   "metadata": {},
   "outputs": [],
   "source": []
  }
 ],
 "metadata": {
  "kernelspec": {
   "display_name": "Python 3 (ipykernel)",
   "language": "python",
   "name": "python3"
  },
  "language_info": {
   "codemirror_mode": {
    "name": "ipython",
    "version": 3
   },
   "file_extension": ".py",
   "mimetype": "text/x-python",
   "name": "python",
   "nbconvert_exporter": "python",
   "pygments_lexer": "ipython3",
   "version": "3.11.4"
  }
 },
 "nbformat": 4,
 "nbformat_minor": 5
}
