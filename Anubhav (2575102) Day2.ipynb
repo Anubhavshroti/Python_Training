{
 "cells": [
  {
   "cell_type": "markdown",
   "id": "1632d892",
   "metadata": {},
   "source": [
    "# 1. Write a python Function to list even and odd numbers in a list"
   ]
  },
  {
   "cell_type": "code",
   "execution_count": 11,
   "id": "26e79b61",
   "metadata": {},
   "outputs": [
    {
     "name": "stdout",
     "output_type": "stream",
     "text": [
      "Enter a list of numbers separated by spaces: 1 2 3 4 5 6 8 10 12 \n",
      "Even numbers: [2, 4, 6, 8, 10, 12]\n",
      "Odd numbers: [1, 3, 5]\n"
     ]
    }
   ],
   "source": [
    "def list_even_odd(numbers):\n",
    "    even_numbers = []\n",
    "    odd_numbers = []\n",
    "    for num in numbers:\n",
    "        if num % 2 == 0:\n",
    "            even_numbers.append(num)\n",
    "        else:\n",
    "            odd_numbers.append(num)\n",
    "    return even_numbers, odd_numbers\n",
    "input_str = input(\"Enter a list of numbers separated by spaces: \")\n",
    "user_input = input_str.split()\n",
    "numbers = [int(num) for num in user_input]\n",
    "even, odd = list_even_odd(numbers)\n",
    "print(\"Even numbers:\", even)\n",
    "print(\"Odd numbers:\", odd)"
   ]
  },
  {
   "cell_type": "markdown",
   "id": "6cdcc68c",
   "metadata": {},
   "source": [
    "# 2. Write and run a Python program that asks the user to enter 8 integers (one at a time), and then prints out how many of those integers were even numbers. For example, if the user entered 19. 6, 9, 20, 13, 7, 6, and 1, then your program should print out 3 since 3 of those numbers were even"
   ]
  },
  {
   "cell_type": "code",
   "execution_count": 12,
   "id": "5b4f2a98",
   "metadata": {},
   "outputs": [
    {
     "name": "stdout",
     "output_type": "stream",
     "text": [
      "Enter integer 1: 1\n",
      "Enter integer 2: 2\n",
      "Enter integer 3: 5\n",
      "Enter integer 4: 8\n",
      "Enter integer 5: 10\n",
      "Enter integer 6: 22\n",
      "Enter integer 7: 55\n",
      "Enter integer 8: 88\n",
      "The number of even integers entered is: 5\n"
     ]
    }
   ],
   "source": [
    "even_count = 0\n",
    "for i in range(8):\n",
    "    user_input = input(f\"Enter integer {i + 1}: \")\n",
    "    if user_input.isdigit():\n",
    "        num = int(user_input)\n",
    "        if num % 2 == 0:\n",
    "            even_count += 1\n",
    "    else:\n",
    "        print(\"Invalid input. Please enter a valid integer.\")\n",
    "print(f\"The number of even integers entered is: {even_count}\")"
   ]
  },
  {
   "cell_type": "markdown",
   "id": "1024db04",
   "metadata": {},
   "source": [
    "# 3. Write a Python program where you take any positive integer n, if n is even, divide it by 2 to get n/2 If is odd, \n",
    "multiply it by 3 and add 1 to obtain 3n+1. Repeat the process until you reach 1."
   ]
  },
  {
   "cell_type": "code",
   "execution_count": 9,
   "id": "811f07cb",
   "metadata": {},
   "outputs": [
    {
     "name": "stdout",
     "output_type": "stream",
     "text": [
      "Enter a positive integer: 3\n",
      "3 10 5 16 8 4 2 "
     ]
    }
   ],
   "source": [
    "def collatz_sequence(n):\n",
    "    while n != 1:\n",
    "        print(n, end=' ')\n",
    "        if n % 2 == 0:\n",
    "            n = n // 2\n",
    "        else:\n",
    "            n = 3 * n + 1\n",
    "try:\n",
    "    n = int(input(\"Enter a positive integer: \"))\n",
    "    if n <= 0:\n",
    "        print(\"Please enter a positive integer.\")\n",
    "    else:\n",
    "        collatz_sequence(n)\n",
    "except ValueError:\n",
    "    print(\"Invalid input. Please enter a positive integer.\")"
   ]
  },
  {
   "cell_type": "markdown",
   "id": "63763860",
   "metadata": {},
   "source": [
    "# 4 Write a Python program to compute the sum of all the multiples of 3 or 5 below 500.\n"
   ]
  },
  {
   "cell_type": "code",
   "execution_count": 14,
   "id": "4b1483f8",
   "metadata": {},
   "outputs": [
    {
     "name": "stdout",
     "output_type": "stream",
     "text": [
      "57918\n"
     ]
    }
   ],
   "source": [
    "def sum_multiples_3_5(limit):\n",
    "    total = 0\n",
    "    for i in range(limit):\n",
    "        if i % 3 == 0 or i % 5 == 0:\n",
    "            total += i\n",
    "    return total\n",
    "print(sum_multiples_3_5(500))"
   ]
  },
  {
   "cell_type": "markdown",
   "id": "0dcb58b9",
   "metadata": {},
   "source": [
    "# 5 To write a Python program to find first 'n' prime numbers from a list of given numbers."
   ]
  },
  {
   "cell_type": "code",
   "execution_count": 17,
   "id": "81cf8859",
   "metadata": {},
   "outputs": [
    {
     "name": "stdout",
     "output_type": "stream",
     "text": [
      "Enter the value of n: 2\n",
      "[2, 3]\n"
     ]
    }
   ],
   "source": [
    "def is_prime(num):\n",
    "    if num <= 1:\n",
    "        return False\n",
    "    for i in range(2, int(num**0.5) + 1):\n",
    "        if num % i == 0:\n",
    "            return False\n",
    "    return True\n",
    "def find_n_primes(n):\n",
    "    primes = []\n",
    "    num = 2\n",
    "    while len(primes) < n:\n",
    "        if is_prime(num):\n",
    "            primes.append(num)\n",
    "        num += 1\n",
    "    return primes\n",
    "n = int(input(\"Enter the value of n: \"))\n",
    "print(find_n_primes(n))"
   ]
  },
  {
   "cell_type": "markdown",
   "id": "7d46c865",
   "metadata": {},
   "source": [
    "# 7. Write a python Function to count the number of vowels in a string"
   ]
  },
  {
   "cell_type": "code",
   "execution_count": 19,
   "id": "9e7e04df",
   "metadata": {},
   "outputs": [
    {
     "name": "stdout",
     "output_type": "stream",
     "text": [
      "Enter a string: Anubhva\n",
      "Number of vowels in the string: 3\n"
     ]
    }
   ],
   "source": [
    "def count_vowels(string):\n",
    "    string = string.lower()\n",
    "    vowel_count = 0\n",
    "    vowels = set(\"aeiou\")\n",
    "    for char in string:\n",
    "        if char in vowels:\n",
    "            vowel_count += 1\n",
    "    \n",
    "    return vowel_count\n",
    "input_string = input(\"Enter a string: \")\n",
    "result = count_vowels(input_string)\n",
    "print(f\"Number of vowels in the string: {result}\")"
   ]
  },
  {
   "cell_type": "markdown",
   "id": "14e6700d",
   "metadata": {},
   "source": [
    "# 8. Write a python Function for finding factorial for the given number using a recursive function."
   ]
  },
  {
   "cell_type": "code",
   "execution_count": 25,
   "id": "daa00b8d",
   "metadata": {},
   "outputs": [
    {
     "name": "stdout",
     "output_type": "stream",
     "text": [
      "The factorial of 4 is 24\n"
     ]
    }
   ],
   "source": [
    "def factorial(n):\n",
    "    if n == 0:\n",
    "        return 1  # Base case: factorial of 0 is 1\n",
    "    else:\n",
    "        return n * factorial(n - 1)\n",
    "number = 4\n",
    "result = factorial(number)\n",
    "print(f\"The factorial of {number} is {result}\")\n"
   ]
  },
  {
   "cell_type": "markdown",
   "id": "005d4424",
   "metadata": {},
   "source": [
    "# 9.Write a python Function for generating the Fibonacci series using the funtion"
   ]
  },
  {
   "cell_type": "code",
   "execution_count": 26,
   "id": "4af55e09",
   "metadata": {},
   "outputs": [
    {
     "name": "stdout",
     "output_type": "stream",
     "text": [
      "The Fibonacci series with 10 terms is: [0, 1, 1, 2, 3, 5, 8, 13, 21, 34]\n"
     ]
    }
   ],
   "source": [
    "def fibonacci(n):\n",
    "    if n <= 0:\n",
    "        return []\n",
    "    elif n == 1:\n",
    "        return [0]\n",
    "    elif n == 2:\n",
    "        return [0, 1]\n",
    "    else:\n",
    "    \n",
    "        fib_series = fibonacci(n - 1)\n",
    "        fib_series.append(fib_series[-1] + fib_series[-2])\n",
    "        return fib_series\n",
    "\n",
    "\n",
    "number_of_terms = 10\n",
    "fibonacci_series = fibonacci(number_of_terms)\n",
    "print(f\"The Fibonacci series with {number_of_terms} terms is: {fibonacci_series}\")\n"
   ]
  },
  {
   "cell_type": "markdown",
   "id": "4927b901",
   "metadata": {},
   "source": [
    "# 10. Python program to display the given integer in reverse order using the function without an in built"
   ]
  },
  {
   "cell_type": "code",
   "execution_count": 34,
   "id": "937952e9",
   "metadata": {},
   "outputs": [
    {
     "name": "stdout",
     "output_type": "stream",
     "text": [
      "Enter an integer: 469\n",
      "Reversed integer: 964\n"
     ]
    }
   ],
   "source": [
    "def reverse_integer(n):\n",
    "    reversed_num = 0\n",
    "\n",
    "    \n",
    "    is_negative = False\n",
    "    if n < 0:\n",
    "        is_negative = True\n",
    "        n = abs(n)\n",
    "\n",
    "    while n > 0:\n",
    "        last_digit = n % 10\n",
    "        reversed_num = reversed_num * 10 + last_digit\n",
    "        n = n // 10\n",
    "\n",
    "   \n",
    "    if is_negative:\n",
    "        reversed_num = -reversed_num\n",
    "\n",
    "    return reversed_num\n",
    "\n",
    "\n",
    "num = int(input(\"Enter an integer: \"))\n",
    "\n",
    "\n",
    "reversed_num = reverse_integer(num)\n",
    "\n",
    "print(\"Reversed integer:\", reversed_num)\n"
   ]
  },
  {
   "cell_type": "markdown",
   "id": "dd09545b",
   "metadata": {},
   "source": [
    "# Q11.Write a Python Function to display all integers within the range 200-300 whose sum of digits is an even number 12.\n",
    "\n"
   ]
  },
  {
   "cell_type": "code",
   "execution_count": 37,
   "id": "046b2a5e",
   "metadata": {},
   "outputs": [
    {
     "name": "stdout",
     "output_type": "stream",
     "text": [
      "219\n",
      "228\n",
      "237\n",
      "246\n",
      "255\n",
      "264\n",
      "273\n",
      "282\n",
      "291\n"
     ]
    }
   ],
   "source": [
    "def find_integers_with_sum_of_digits_12():\n",
    "    for num in range(200, 301):\n",
    "        # Calculate the sum of digits for the current number\n",
    "        digit_sum = sum(map(int, str(num)))\n",
    "        if digit_sum == 12:\n",
    "            print(num)\n",
    "\n",
    "# Call the function to display integers\n",
    "find_integers_with_sum_of_digits_12()\n"
   ]
  },
  {
   "cell_type": "markdown",
   "id": "5ea87db1",
   "metadata": {},
   "source": [
    "# Q12. Write a python Function to find the number of digits and sum of digits for a given integer"
   ]
  },
  {
   "cell_type": "code",
   "execution_count": 39,
   "id": "62093d14",
   "metadata": {},
   "outputs": [
    {
     "name": "stdout",
     "output_type": "stream",
     "text": [
      "Enter an integer: 135\n",
      "Number of digits: 3\n",
      "Sum of digits: 9\n"
     ]
    }
   ],
   "source": [
    "def find_digits_and_sum_of_digits(number):\n",
    "    # Convert the number to a string to find the number of digits\n",
    "    num_str = str(number)\n",
    "    num_digits = len(num_str)\n",
    "\n",
    "    # Calculate the sum of digits\n",
    "    digit_sum = sum(map(int, num_str))\n",
    "\n",
    "    return num_digits, digit_sum\n",
    "\n",
    "# Example usage:\n",
    "input_number = int(input(\"Enter an integer: \"))\n",
    "num_digits, digit_sum = find_digits_and_sum_of_digits(input_number)\n",
    "print(f\"Number of digits: {num_digits}\")\n",
    "print(f\"Sum of digits: {digit_sum}\")\n"
   ]
  },
  {
   "cell_type": "markdown",
   "id": "5679af3c",
   "metadata": {},
   "source": [
    "# Write functions called is sorted that takes a list as a parameter and returns True if the list is sorted in ascending order and False otherwise and has, duplicates that takes a list and returns True if there is any element that appears more than once. It should not modify the original list"
   ]
  },
  {
   "cell_type": "code",
   "execution_count": 41,
   "id": "f6b090ce",
   "metadata": {},
   "outputs": [
    {
     "name": "stdout",
     "output_type": "stream",
     "text": [
      "Is the list sorted? True\n",
      "Does the list have duplicates? True\n"
     ]
    }
   ],
   "source": [
    "def is_sorted(input_list):\n",
    "    # Check if the list is sorted in ascending order\n",
    "    return all(input_list[i] <= input_list[i + 1] for i in range(len(input_list) - 1))\n",
    "\n",
    "# Example usage:\n",
    "my_list = [1, 2, 3, 4, 5]\n",
    "print(\"Is the list sorted?\", is_sorted(my_list))  # Should return True\n",
    "\n",
    "def has_duplicates(input_list):\n",
    "    # Create a set to store unique elements\n",
    "    unique_elements = set()\n",
    "    \n",
    "    for item in input_list:\n",
    "        if item in unique_elements:\n",
    "            return True  # Found a duplicate\n",
    "        else:\n",
    "            unique_elements.add(item)\n",
    "    \n",
    "    return False  # No duplicates found\n",
    "\n",
    "# Example usage:\n",
    "my_list = [1, 2, 3, 4, 1]\n",
    "print(\"Does the list have duplicates?\", has_duplicates(my_list))  # Should return True\n"
   ]
  },
  {
   "cell_type": "markdown",
   "id": "c228c4ab",
   "metadata": {},
   "source": [
    "# 14. Write functions called nested sum that takes a list of integers and adds up the elements from all the nested lists and\n",
    "cumsum that takes a list of numbers and returns the cumulative sum, that is, anew list where the \n",
    "is element is the sum of the first i 1 elements from the original list."
   ]
  },
  {
   "cell_type": "code",
   "execution_count": 48,
   "id": "3aa14235",
   "metadata": {},
   "outputs": [
    {
     "name": "stdout",
     "output_type": "stream",
     "text": [
      "Sum of all elements in the nested list: 45\n",
      "Cumulative sum list: [1, 3, 6, 10, 15]\n"
     ]
    }
   ],
   "source": [
    "def nested_sum(lst):\n",
    "    total = 0\n",
    "    for element in lst:\n",
    "        if isinstance(element, list):\n",
    "            total += nested_sum(element)\n",
    "        else:\n",
    "            total += element\n",
    "    return total\n",
    "\n",
    "\n",
    "nested_list = [1, 2, [3, 4, [5, 6]], 7, [8, 9]]\n",
    "result = nested_sum(nested_list)\n",
    "print(\"Sum of all elements in the nested list:\", result)\n",
    "\n",
    "\n",
    "\n",
    "def cumsum(lst):\n",
    "    cumulative_sum = []\n",
    "    current_sum = 0\n",
    "    for num in lst:\n",
    "        current_sum += num\n",
    "        cumulative_sum.append(current_sum)\n",
    "    return cumulative_sum\n",
    "\n",
    "\n",
    "original_list = [1, 2, 3, 4, 5]\n",
    "result = cumsum(original_list)\n",
    "print(\"Cumulative sum list:\", result)"
   ]
  },
  {
   "cell_type": "code",
   "execution_count": null,
   "id": "bb35a111",
   "metadata": {},
   "outputs": [],
   "source": []
  }
 ],
 "metadata": {
  "kernelspec": {
   "display_name": "Python 3 (ipykernel)",
   "language": "python",
   "name": "python3"
  },
  "language_info": {
   "codemirror_mode": {
    "name": "ipython",
    "version": 3
   },
   "file_extension": ".py",
   "mimetype": "text/x-python",
   "name": "python",
   "nbconvert_exporter": "python",
   "pygments_lexer": "ipython3",
   "version": "3.11.4"
  }
 },
 "nbformat": 4,
 "nbformat_minor": 5
}
